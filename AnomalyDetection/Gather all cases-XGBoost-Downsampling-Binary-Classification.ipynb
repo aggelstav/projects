{
 "cells": [
  {
   "cell_type": "code",
   "execution_count": 94,
   "metadata": {},
   "outputs": [],
   "source": [
    "from pathlib import Path\n",
    "import pandas as pd\n",
    "import matplotlib.pylab as plt\n",
    "import numpy as np\n",
    "import xgboost as xgb\n",
    "from xgboost import XGBClassifier\n",
    "from sklearn.model_selection import train_test_split\n",
    "from sklearn.metrics import accuracy_score, confusion_matrix\n",
    "from sklearn.utils import shuffle\n",
    "from sklearn.preprocessing import MinMaxScaler, StandardScaler\n",
    "from sklearn.utils.multiclass import unique_labels\n",
    "from sklearn.metrics import roc_auc_score, f1_score\n",
    "\n",
    "from sklearn.metrics import roc_auc_score\n",
    "\n",
    "plt.style.use('seaborn-white')"
   ]
  },
  {
   "cell_type": "code",
   "execution_count": 95,
   "metadata": {},
   "outputs": [],
   "source": [
    "def plot_confusion_matrix(y_true, y_pred, classes,\n",
    "                          normalize=False,\n",
    "                          title=None,\n",
    "                          cmap=plt.cm.Blues):\n",
    "    \"\"\"\n",
    "    This function prints and plots the confusion matrix.\n",
    "    Normalization can be applied by setting `normalize=True`.\n",
    "    \"\"\"\n",
    "    if not title:\n",
    "        if normalize:\n",
    "            title = 'Normalized confusion matrix'\n",
    "        else:\n",
    "            title = 'Confusion matrix, without normalization'\n",
    "\n",
    "    # Compute confusion matrix\n",
    "    cm = confusion_matrix(y_true, y_pred)\n",
    "    # Only use the labels that appear in the data\n",
    "    classes = classes[unique_labels(y_true, y_pred)]\n",
    "    if normalize:\n",
    "        cm = cm.astype('float') / cm.sum(axis=1)[:, np.newaxis]\n",
    "        print(\"Normalized confusion matrix\")\n",
    "    else:\n",
    "        print('Confusion matrix, without normalization')\n",
    "\n",
    "    print(cm)\n",
    "    fig, ax = plt.subplots()\n",
    "    im = ax.imshow(cm, interpolation='nearest', cmap=cmap)\n",
    "    ax.figure.colorbar(im, ax=ax)\n",
    "    # We want to show all ticks...\n",
    "    ax.set(xticks=np.arange(cm.shape[1]),\n",
    "           yticks=np.arange(cm.shape[0]),\n",
    "           # ... and label them with the respective list entries\n",
    "           xticklabels=classes, yticklabels=classes,\n",
    "           title=title,\n",
    "           ylabel='True label',\n",
    "           xlabel='Predicted label')\n",
    "\n",
    "    # Rotate the tick labels and set their alignment.\n",
    "    plt.setp(ax.get_xticklabels(), rotation=45, ha=\"right\",\n",
    "             rotation_mode=\"anchor\")\n",
    "\n",
    "    # Loop over data dimensions and create text annotations.\n",
    "    fmt = '.2f' if normalize else 'd'\n",
    "    thresh = cm.max() / 2.\n",
    "    for i in range(cm.shape[0]):\n",
    "        for j in range(cm.shape[1]):\n",
    "            ax.text(j, i, format(cm[i, j], fmt),\n",
    "                    ha=\"center\", va=\"center\",\n",
    "                    color=\"white\" if cm[i, j] > thresh else \"black\")\n",
    "    fig.tight_layout()\n",
    "    return ax"
   ]
  },
  {
   "cell_type": "code",
   "execution_count": 1,
   "metadata": {
    "ExecuteTime": {
     "end_time": "2019-04-19T10:18:24.072958Z",
     "start_time": "2019-04-19T10:18:24.070347Z"
    }
   },
   "outputs": [],
   "source": [
    "def evaluate_score(score):\n",
    "    mean = np.mean(score)\n",
    "    std = np.std(score)\n",
    "    print(f\"Average score:{mean}+/-{std}%\")\n",
    "    plt.boxplot(scores)\n",
    "    plt.set_ylabel('Accuracy')\n"
   ]
  },
  {
   "cell_type": "code",
   "execution_count": 97,
   "metadata": {},
   "outputs": [],
   "source": [
    "from pylab import rcParams\n",
    "rcParams['figure.figsize'] = 11, 10"
   ]
  },
  {
   "cell_type": "markdown",
   "metadata": {},
   "source": [
    "We define two labels for our datasets ,1 for normal and 2 for problematic scenarios. "
   ]
  },
  {
   "cell_type": "markdown",
   "metadata": {},
   "source": [
    "Our dataset is spread over many csv files. We keep only the voltage series, add a label column and concatanate all dataframes into one.\n",
    "So now we have one dataset which rows are sampled sequences and the last column is the label (1 or 0) of this sequence.\n",
    "Now we can train a classifier to tell apart the normal from the problematic sequences."
   ]
  },
  {
   "cell_type": "code",
   "execution_count": 98,
   "metadata": {},
   "outputs": [],
   "source": [
    "df_normal_list = pd.DataFrame()\n",
    "pathlist = Path(\"/home/aggelos-i3/Downloads/simu Elbas/7h33NO\").glob('**/*.xls')\n",
    "for path in pathlist:\n",
    "    # because path is object not string\n",
    "    path_in_str = str(path)\n",
    "    df = pd.read_csv(path_in_str, delimiter='\\t')\n",
    "    df = df[['voltage [V]']][:1000].transpose()\n",
    "    #df = df.set_index(\"loc. (actual) [km]\")\n",
    "    #df.dropna(inplace=True)\n",
    "    #df.sort_index(inplace=True)\n",
    "    if df_normal_list.empty:\n",
    "        df_normal_list = df\n",
    "    else:\n",
    "        df_normal_list = df_normal_list.append(df)\n",
    "df_normal_list = df_normal_list.sample(18)"
   ]
  },
  {
   "cell_type": "code",
   "execution_count": 99,
   "metadata": {},
   "outputs": [],
   "source": [
    "df_error_list = pd.DataFrame()\n",
    "for i in range(1, 4):\n",
    "    pathlist = Path(\n",
    "        f\"/home/aggelos-i3/Downloads/simu Elbas/7h33D{i}\").glob('**/*.xls')\n",
    "    for path in pathlist:\n",
    "        # because path is object not string\n",
    "        path_in_str = str(path)\n",
    "        df = pd.read_csv(path_in_str, delimiter='\\t')\n",
    "        df = df[['voltage [V]']][:1000].transpose()\n",
    "        #df = df.set_index(\"loc. (actual) [km]\")\n",
    "        # df.dropna(inplace=True)\n",
    "        if df_error_list.empty:\n",
    "            df_error_list = df\n",
    "        else:\n",
    "            df_error_list = df_error_list.append(df)\n",
    "    df_error_list = df_error_list.sample(6*i)"
   ]
  },
  {
   "cell_type": "code",
   "execution_count": 100,
   "metadata": {},
   "outputs": [],
   "source": [
    "normal_labels = np.zeros((len(df_normal_list),1))\n",
    "\n",
    "error_labels = np.ones((len(df_error_list),1))"
   ]
  },
  {
   "cell_type": "code",
   "execution_count": 101,
   "metadata": {},
   "outputs": [],
   "source": [
    "X = pd.concat([df_normal_list, df_error_list], axis=0)\n",
    "X.shape\n",
    "dataset = X"
   ]
  },
  {
   "cell_type": "code",
   "execution_count": 102,
   "metadata": {},
   "outputs": [],
   "source": [
    "y = np.concatenate([normal_labels, error_labels], axis=0)\n",
    "dataset['labels'] = y.astype(int)"
   ]
  },
  {
   "cell_type": "code",
   "execution_count": 103,
   "metadata": {},
   "outputs": [
    {
     "data": {
      "text/html": [
       "<div>\n",
       "<style scoped>\n",
       "    .dataframe tbody tr th:only-of-type {\n",
       "        vertical-align: middle;\n",
       "    }\n",
       "\n",
       "    .dataframe tbody tr th {\n",
       "        vertical-align: top;\n",
       "    }\n",
       "\n",
       "    .dataframe thead th {\n",
       "        text-align: right;\n",
       "    }\n",
       "</style>\n",
       "<table border=\"1\" class=\"dataframe\">\n",
       "  <thead>\n",
       "    <tr style=\"text-align: right;\">\n",
       "      <th></th>\n",
       "      <th>0</th>\n",
       "      <th>1</th>\n",
       "      <th>2</th>\n",
       "      <th>3</th>\n",
       "      <th>4</th>\n",
       "      <th>5</th>\n",
       "      <th>6</th>\n",
       "      <th>7</th>\n",
       "      <th>8</th>\n",
       "      <th>9</th>\n",
       "      <th>...</th>\n",
       "      <th>991</th>\n",
       "      <th>992</th>\n",
       "      <th>993</th>\n",
       "      <th>994</th>\n",
       "      <th>995</th>\n",
       "      <th>996</th>\n",
       "      <th>997</th>\n",
       "      <th>998</th>\n",
       "      <th>999</th>\n",
       "      <th>labels</th>\n",
       "    </tr>\n",
       "  </thead>\n",
       "  <tbody>\n",
       "    <tr>\n",
       "      <th>count</th>\n",
       "      <td>36.000000</td>\n",
       "      <td>36.000000</td>\n",
       "      <td>36.000000</td>\n",
       "      <td>36.000000</td>\n",
       "      <td>36.000000</td>\n",
       "      <td>36.000000</td>\n",
       "      <td>36.000000</td>\n",
       "      <td>36.000000</td>\n",
       "      <td>36.000000</td>\n",
       "      <td>36.000000</td>\n",
       "      <td>...</td>\n",
       "      <td>36.000000</td>\n",
       "      <td>36.000000</td>\n",
       "      <td>36.000000</td>\n",
       "      <td>36.000000</td>\n",
       "      <td>36.000000</td>\n",
       "      <td>36.000000</td>\n",
       "      <td>36.000000</td>\n",
       "      <td>36.000000</td>\n",
       "      <td>36.000000</td>\n",
       "      <td>36.000000</td>\n",
       "    </tr>\n",
       "    <tr>\n",
       "      <th>mean</th>\n",
       "      <td>785.790463</td>\n",
       "      <td>784.556527</td>\n",
       "      <td>783.764940</td>\n",
       "      <td>782.823110</td>\n",
       "      <td>781.214118</td>\n",
       "      <td>784.453742</td>\n",
       "      <td>783.294847</td>\n",
       "      <td>784.212826</td>\n",
       "      <td>782.447110</td>\n",
       "      <td>782.968297</td>\n",
       "      <td>...</td>\n",
       "      <td>800.869337</td>\n",
       "      <td>783.504120</td>\n",
       "      <td>788.072140</td>\n",
       "      <td>786.310462</td>\n",
       "      <td>789.527944</td>\n",
       "      <td>789.633620</td>\n",
       "      <td>790.456223</td>\n",
       "      <td>787.401055</td>\n",
       "      <td>786.360380</td>\n",
       "      <td>0.500000</td>\n",
       "    </tr>\n",
       "    <tr>\n",
       "      <th>std</th>\n",
       "      <td>5.991196</td>\n",
       "      <td>2.726457</td>\n",
       "      <td>3.151592</td>\n",
       "      <td>2.575302</td>\n",
       "      <td>3.512375</td>\n",
       "      <td>9.603534</td>\n",
       "      <td>4.596440</td>\n",
       "      <td>4.618340</td>\n",
       "      <td>5.897082</td>\n",
       "      <td>11.869545</td>\n",
       "      <td>...</td>\n",
       "      <td>20.341495</td>\n",
       "      <td>16.559020</td>\n",
       "      <td>4.695912</td>\n",
       "      <td>4.571108</td>\n",
       "      <td>4.529824</td>\n",
       "      <td>7.819227</td>\n",
       "      <td>8.496159</td>\n",
       "      <td>6.361021</td>\n",
       "      <td>4.633381</td>\n",
       "      <td>0.507093</td>\n",
       "    </tr>\n",
       "    <tr>\n",
       "      <th>min</th>\n",
       "      <td>777.323059</td>\n",
       "      <td>779.773987</td>\n",
       "      <td>774.853210</td>\n",
       "      <td>777.782959</td>\n",
       "      <td>773.262268</td>\n",
       "      <td>769.269775</td>\n",
       "      <td>771.947266</td>\n",
       "      <td>773.087036</td>\n",
       "      <td>769.808350</td>\n",
       "      <td>764.684265</td>\n",
       "      <td>...</td>\n",
       "      <td>784.646057</td>\n",
       "      <td>763.427978</td>\n",
       "      <td>781.588013</td>\n",
       "      <td>776.646179</td>\n",
       "      <td>779.738464</td>\n",
       "      <td>772.329956</td>\n",
       "      <td>772.211731</td>\n",
       "      <td>774.977844</td>\n",
       "      <td>771.435547</td>\n",
       "      <td>0.000000</td>\n",
       "    </tr>\n",
       "    <tr>\n",
       "      <th>25%</th>\n",
       "      <td>783.361847</td>\n",
       "      <td>783.901871</td>\n",
       "      <td>782.509781</td>\n",
       "      <td>781.508316</td>\n",
       "      <td>779.332870</td>\n",
       "      <td>778.587585</td>\n",
       "      <td>780.699722</td>\n",
       "      <td>783.178818</td>\n",
       "      <td>778.791031</td>\n",
       "      <td>776.403427</td>\n",
       "      <td>...</td>\n",
       "      <td>787.737427</td>\n",
       "      <td>771.313309</td>\n",
       "      <td>784.183182</td>\n",
       "      <td>783.860687</td>\n",
       "      <td>787.978867</td>\n",
       "      <td>785.161148</td>\n",
       "      <td>786.232635</td>\n",
       "      <td>784.285751</td>\n",
       "      <td>784.412003</td>\n",
       "      <td>0.000000</td>\n",
       "    </tr>\n",
       "    <tr>\n",
       "      <th>50%</th>\n",
       "      <td>785.004791</td>\n",
       "      <td>784.656006</td>\n",
       "      <td>784.461029</td>\n",
       "      <td>782.541840</td>\n",
       "      <td>781.573151</td>\n",
       "      <td>781.223023</td>\n",
       "      <td>783.091644</td>\n",
       "      <td>784.516418</td>\n",
       "      <td>781.844391</td>\n",
       "      <td>780.354462</td>\n",
       "      <td>...</td>\n",
       "      <td>792.354614</td>\n",
       "      <td>778.395355</td>\n",
       "      <td>786.901611</td>\n",
       "      <td>785.422211</td>\n",
       "      <td>788.679321</td>\n",
       "      <td>788.095428</td>\n",
       "      <td>789.139832</td>\n",
       "      <td>786.453156</td>\n",
       "      <td>786.744782</td>\n",
       "      <td>0.500000</td>\n",
       "    </tr>\n",
       "    <tr>\n",
       "      <th>75%</th>\n",
       "      <td>787.180740</td>\n",
       "      <td>785.865768</td>\n",
       "      <td>786.003967</td>\n",
       "      <td>784.841934</td>\n",
       "      <td>783.274765</td>\n",
       "      <td>785.936386</td>\n",
       "      <td>786.026520</td>\n",
       "      <td>785.766937</td>\n",
       "      <td>786.709045</td>\n",
       "      <td>785.410812</td>\n",
       "      <td>...</td>\n",
       "      <td>809.543823</td>\n",
       "      <td>791.553360</td>\n",
       "      <td>791.429703</td>\n",
       "      <td>789.222977</td>\n",
       "      <td>790.199753</td>\n",
       "      <td>792.101425</td>\n",
       "      <td>793.702743</td>\n",
       "      <td>790.716339</td>\n",
       "      <td>788.577652</td>\n",
       "      <td>1.000000</td>\n",
       "    </tr>\n",
       "    <tr>\n",
       "      <th>max</th>\n",
       "      <td>804.759766</td>\n",
       "      <td>789.580139</td>\n",
       "      <td>787.957275</td>\n",
       "      <td>786.837707</td>\n",
       "      <td>787.134705</td>\n",
       "      <td>810.299377</td>\n",
       "      <td>790.527100</td>\n",
       "      <td>792.119934</td>\n",
       "      <td>791.987061</td>\n",
       "      <td>812.330322</td>\n",
       "      <td>...</td>\n",
       "      <td>879.915100</td>\n",
       "      <td>833.462219</td>\n",
       "      <td>800.511536</td>\n",
       "      <td>798.087158</td>\n",
       "      <td>809.265320</td>\n",
       "      <td>808.796814</td>\n",
       "      <td>814.559753</td>\n",
       "      <td>800.787537</td>\n",
       "      <td>796.938782</td>\n",
       "      <td>1.000000</td>\n",
       "    </tr>\n",
       "  </tbody>\n",
       "</table>\n",
       "<p>8 rows × 1001 columns</p>\n",
       "</div>"
      ],
      "text/plain": [
       "                0           1           2           3           4           5  \\\n",
       "count   36.000000   36.000000   36.000000   36.000000   36.000000   36.000000   \n",
       "mean   785.790463  784.556527  783.764940  782.823110  781.214118  784.453742   \n",
       "std      5.991196    2.726457    3.151592    2.575302    3.512375    9.603534   \n",
       "min    777.323059  779.773987  774.853210  777.782959  773.262268  769.269775   \n",
       "25%    783.361847  783.901871  782.509781  781.508316  779.332870  778.587585   \n",
       "50%    785.004791  784.656006  784.461029  782.541840  781.573151  781.223023   \n",
       "75%    787.180740  785.865768  786.003967  784.841934  783.274765  785.936386   \n",
       "max    804.759766  789.580139  787.957275  786.837707  787.134705  810.299377   \n",
       "\n",
       "                6           7           8           9  ...         991  \\\n",
       "count   36.000000   36.000000   36.000000   36.000000  ...   36.000000   \n",
       "mean   783.294847  784.212826  782.447110  782.968297  ...  800.869337   \n",
       "std      4.596440    4.618340    5.897082   11.869545  ...   20.341495   \n",
       "min    771.947266  773.087036  769.808350  764.684265  ...  784.646057   \n",
       "25%    780.699722  783.178818  778.791031  776.403427  ...  787.737427   \n",
       "50%    783.091644  784.516418  781.844391  780.354462  ...  792.354614   \n",
       "75%    786.026520  785.766937  786.709045  785.410812  ...  809.543823   \n",
       "max    790.527100  792.119934  791.987061  812.330322  ...  879.915100   \n",
       "\n",
       "              992         993         994         995         996         997  \\\n",
       "count   36.000000   36.000000   36.000000   36.000000   36.000000   36.000000   \n",
       "mean   783.504120  788.072140  786.310462  789.527944  789.633620  790.456223   \n",
       "std     16.559020    4.695912    4.571108    4.529824    7.819227    8.496159   \n",
       "min    763.427978  781.588013  776.646179  779.738464  772.329956  772.211731   \n",
       "25%    771.313309  784.183182  783.860687  787.978867  785.161148  786.232635   \n",
       "50%    778.395355  786.901611  785.422211  788.679321  788.095428  789.139832   \n",
       "75%    791.553360  791.429703  789.222977  790.199753  792.101425  793.702743   \n",
       "max    833.462219  800.511536  798.087158  809.265320  808.796814  814.559753   \n",
       "\n",
       "              998         999     labels  \n",
       "count   36.000000   36.000000  36.000000  \n",
       "mean   787.401055  786.360380   0.500000  \n",
       "std      6.361021    4.633381   0.507093  \n",
       "min    774.977844  771.435547   0.000000  \n",
       "25%    784.285751  784.412003   0.000000  \n",
       "50%    786.453156  786.744782   0.500000  \n",
       "75%    790.716339  788.577652   1.000000  \n",
       "max    800.787537  796.938782   1.000000  \n",
       "\n",
       "[8 rows x 1001 columns]"
      ]
     },
     "execution_count": 103,
     "metadata": {},
     "output_type": "execute_result"
    }
   ],
   "source": [
    "# we shuffle our dataset\n",
    "class_names = np.array(['Error', 'Normal'])\n",
    "\n",
    "dataset = shuffle(dataset)\n",
    "dataset.dropna(inplace=True)\n",
    "dataset.describe()"
   ]
  },
  {
   "cell_type": "code",
   "execution_count": 104,
   "metadata": {},
   "outputs": [
    {
     "name": "stdout",
     "output_type": "stream",
     "text": [
      "Accuracy: 88.89%\n"
     ]
    }
   ],
   "source": [
    "scaler  = StandardScaler()\n",
    "X, y = dataset.iloc[:, :-1].values, dataset.iloc[:, -1].values\n",
    "X = scaler.fit_transform(X)\n",
    "# split our dataset 0.75 train 0.25 test\n",
    "# although since our dataset is smalll we will later user kfold crossvalidation \n",
    "X_train, X_test, y_train, y_test = train_test_split(X, y)\n",
    "# fit model no training data\n",
    "eval_set = [(X_test, y_test)]\n",
    "\n",
    "model = XGBClassifier()\n",
    "model.fit(\n",
    "    X_train,\n",
    "    y_train,\n",
    "    early_stopping_rounds=10,\n",
    "    eval_metric=\"logloss\",\n",
    "    eval_set=eval_set,\n",
    "    verbose=False)\n",
    "# make predictions for test data\n",
    "y_pred = model.predict(X_test)\n",
    "predictions = [round(value) for value in y_pred]\n",
    "# evaluate predictions\n",
    "accuracy = accuracy_score(y_test, predictions)\n",
    "conf_matr = confusion_matrix(y_test, predictions)\n",
    "print(\"Accuracy: %.2f%%\" % (accuracy * 100.0))\n"
   ]
  },
  {
   "cell_type": "code",
   "execution_count": 105,
   "metadata": {},
   "outputs": [
    {
     "name": "stdout",
     "output_type": "stream",
     "text": [
      "Normalized confusion matrix\n",
      "[[1.  0. ]\n",
      " [0.2 0.8]]\n"
     ]
    },
    {
     "data": {
      "text/plain": [
       "<matplotlib.axes._subplots.AxesSubplot at 0x7f9a1c108748>"
      ]
     },
     "execution_count": 105,
     "metadata": {},
     "output_type": "execute_result"
    },
    {
     "data": {
      "image/png": "[encoded data removed]",
      "text/plain": [
       "<Figure size 792x720 with 2 Axes>"
      ]
     },
     "metadata": {},
     "output_type": "display_data"
    }
   ],
   "source": [
    "plot_confusion_matrix(y_test, predictions, classes=class_names, normalize=True,\n",
    "                      title='Normalized confusion matrix from 1 run')"
   ]
  },
  {
   "cell_type": "code",
   "execution_count": 106,
   "metadata": {},
   "outputs": [
    {
     "data": {
      "image/png": "[encoded data removed]",
      "text/plain": [
       "<Figure size 792x720 with 1 Axes>"
      ]
     },
     "metadata": {},
     "output_type": "display_data"
    }
   ],
   "source": [
    "# plot\n",
    "plt.bar(range(len(model.feature_importances_)), model.feature_importances_)\n",
    "plt.show()"
   ]
  },
  {
   "cell_type": "code",
   "execution_count": 107,
   "metadata": {},
   "outputs": [
    {
     "name": "stdout",
     "output_type": "stream",
     "text": [
      "Start cross validation\n"
     ]
    }
   ],
   "source": [
    "xgtrain = xgb.DMatrix(X, y)\n",
    "xgb_param = model.get_xgb_params()\n",
    "#do cross validation\n",
    "print ('Start cross validation')\n",
    "cvresult = xgb.cv(xgb_param, xgtrain, num_boost_round=5000, nfold=15, metrics=['auc'],\n",
    "     early_stopping_rounds=50, stratified=True, seed=1301)"
   ]
  },
  {
   "cell_type": "code",
   "execution_count": 108,
   "metadata": {},
   "outputs": [
    {
     "name": "stdout",
     "output_type": "stream",
     "text": [
      "Best number of trees = 53\n"
     ]
    },
    {
     "data": {
      "text/plain": [
       "XGBClassifier(base_score=0.5, booster='gbtree', colsample_bylevel=1,\n",
       "       colsample_bytree=1, gamma=0, learning_rate=0.1, max_delta_step=0,\n",
       "       max_depth=3, min_child_weight=1, missing=None, n_estimators=53,\n",
       "       n_jobs=1, nthread=None, objective='binary:logistic', random_state=0,\n",
       "       reg_alpha=0, reg_lambda=1, scale_pos_weight=1, seed=None,\n",
       "       silent=True, subsample=1)"
      ]
     },
     "execution_count": 108,
     "metadata": {},
     "output_type": "execute_result"
    }
   ],
   "source": [
    "print('Best number of trees = {}'.format(cvresult.shape[0]))\n",
    "model.set_params(n_estimators=cvresult.shape[0])"
   ]
  },
  {
   "cell_type": "code",
   "execution_count": 109,
   "metadata": {},
   "outputs": [
    {
     "name": "stdout",
     "output_type": "stream",
     "text": [
      "Fit on the trainingsdata\n",
      "Overall AUC: 0.9969135802469136\n",
      "Predict the probabilities based on features in the test set\n"
     ]
    }
   ],
   "source": [
    "print('Fit on the trainingsdata')\n",
    "model.fit(X_train, y_train, eval_metric='aucpr')\n",
    "print('Overall AUC:', roc_auc_score(y, model.predict_proba(X)[:,1]))\n",
    "print('Predict the probabilities based on features in the test set')\n",
    "pred = model.predict_proba(X_test, ntree_limit=cvresult.shape[0])"
   ]
  },
  {
   "cell_type": "code",
   "execution_count": 110,
   "metadata": {},
   "outputs": [
    {
     "name": "stdout",
     "output_type": "stream",
     "text": [
      "Average score:0.675+/-0.225%\n"
     ]
    },
    {
     "data": {
      "image/png": "[encoded data removed]",
      "text/plain": [
       "<Figure size 792x720 with 1 Axes>"
      ]
     },
     "metadata": {},
     "output_type": "display_data"
    }
   ],
   "source": [
    "#Kfold\n",
    "from sklearn.model_selection import KFold, StratifiedKFold\n",
    "from sklearn.model_selection import cross_val_score\n",
    "\n",
    "kf = StratifiedKFold(n_splits=10)\n",
    "scores = cross_val_score(model, X, y, cv=kf, n_jobs=-1)\n",
    "evaluate_score(scores)"
   ]
  },
  {
   "cell_type": "code",
   "execution_count": 111,
   "metadata": {},
   "outputs": [
    {
     "name": "stdout",
     "output_type": "stream",
     "text": [
      "Normalized confusion matrix\n",
      "[[0.66666667 0.33333333]\n",
      " [0.33333333 0.66666667]]\n"
     ]
    },
    {
     "data": {
      "text/plain": [
       "<matplotlib.axes._subplots.AxesSubplot at 0x7f9a27e613c8>"
      ]
     },
     "execution_count": 111,
     "metadata": {},
     "output_type": "execute_result"
    },
    {
     "data": {
      "image/png": "[encoded data removed]",
      "text/plain": [
       "<Figure size 792x720 with 2 Axes>"
      ]
     },
     "metadata": {},
     "output_type": "display_data"
    }
   ],
   "source": [
    "from sklearn.model_selection import cross_val_predict\n",
    "\n",
    "y_pred = cross_val_predict(model, X, y, cv=10)\n",
    "conf_mat = confusion_matrix(y, y_pred)\n",
    "plot_confusion_matrix(y, y_pred, classes=class_names, normalize=True,\n",
    "                      title='Normalized confusion matrix')"
   ]
  },
  {
   "cell_type": "code",
   "execution_count": null,
   "metadata": {},
   "outputs": [],
   "source": []
  }
 ],
 "metadata": {
  "hide_input": false,
  "kernelspec": {
   "display_name": "Python 3",
   "language": "python",
   "name": "python3"
  },
  "language_info": {
   "codemirror_mode": {
    "name": "ipython",
    "version": 3
   },
   "file_extension": ".py",
   "mimetype": "text/x-python",
   "name": "python",
   "nbconvert_exporter": "python",
   "pygments_lexer": "ipython3",
   "version": "3.6.5"
  },
  "toc": {
   "base_numbering": 1,
   "nav_menu": {},
   "number_sections": true,
   "sideBar": true,
   "skip_h1_title": false,
   "title_cell": "Table of Contents",
   "title_sidebar": "Contents",
   "toc_cell": false,
   "toc_position": {},
   "toc_section_display": true,
   "toc_window_display": false
  },
  "varInspector": {
   "cols": {
    "lenName": 16,
    "lenType": 16,
    "lenVar": 40
   },
   "kernels_config": {
    "python": {
     "delete_cmd_postfix": "",
     "delete_cmd_prefix": "del ",
     "library": "var_list.py",
     "varRefreshCmd": "print(var_dic_list())"
    },
    "r": {
     "delete_cmd_postfix": ") ",
     "delete_cmd_prefix": "rm(",
     "library": "var_list.r",
     "varRefreshCmd": "cat(var_dic_list()) "
    }
   },
   "types_to_exclude": [
    "module",
    "function",
    "builtin_function_or_method",
    "instance",
    "_Feature"
   ],
   "window_display": false
  }
 },
 "nbformat": 4,
 "nbformat_minor": 2
}
