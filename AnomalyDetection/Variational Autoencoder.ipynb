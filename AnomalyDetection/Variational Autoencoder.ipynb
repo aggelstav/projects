{
 "cells": [
  {
   "cell_type": "code",
   "execution_count": 33,
   "metadata": {},
   "outputs": [],
   "source": [
    "import tensorflow as tf\n",
    "import numpy as np\n",
    "from tensorflow.keras.layers import *\n",
    "from tensorflow.keras.models import Model\n",
    "from pathlib import Path\n",
    "import pandas as pd\n",
    "from tensorflow.keras.losses import mse, binary_crossentropy\n",
    "from tensorflow.keras import backend as K\n",
    "import matplotlib.pyplot as plt\n",
    "from sklearn.preprocessing import MinMaxScaler"
   ]
  },
  {
   "cell_type": "code",
   "execution_count": 21,
   "metadata": {},
   "outputs": [],
   "source": [
    "df_normal_list = []\n",
    "pathlist = Path(\"/home/aggelos/Downloads/simu_Elbas/7h33NO\").glob('**/*.xls')\n",
    "for path in pathlist:\n",
    "    # because path is object not string\n",
    "    path_in_str = str(path)\n",
    "    df = pd.read_csv(path_in_str, delimiter='\\t')\n",
    "    df = df[['loc. (actual) [km]', 'voltage [V]']]\n",
    "    #df = df.set_index(\"loc. (actual) [km]\")\n",
    "    df.sort_index(inplace=True)\n",
    "    df_normal_list.append(df['voltage [V]'][:1000])"
   ]
  },
  {
   "cell_type": "code",
   "execution_count": 36,
   "metadata": {},
   "outputs": [],
   "source": [
    "df = pd.DataFrame(df_normal_list)\n",
    "df.head()\n",
    "X = df.values\n",
    "scaler = MinMaxScaler()\n",
    "X = scaler.fit_transform(X)\n",
    "X = X.reshape(X.shape[0], X.shape[1], 1)"
   ]
  },
  {
   "cell_type": "code",
   "execution_count": 40,
   "metadata": {},
   "outputs": [],
   "source": [
    "# reparameterization trick\n",
    "# instead of sampling from Q(z|X), sample eps = N(0,I)\n",
    "# z = z_mean + sqrt(var)*eps\n",
    "def sampling(args):\n",
    "    \"\"\"Reparameterization trick by sampling fr an isotropic unit Gaussian.\n",
    "\n",
    "    # Arguments\n",
    "        args (tensor): mean and log of variance of Q(z|X)\n",
    "\n",
    "    # Returns\n",
    "        z (tensor): sampled latent vector\n",
    "    \"\"\"\n",
    "\n",
    "    z_mean, z_log_var = args\n",
    "    batch = K.shape(z_mean)[0]\n",
    "    dim = latent_dim\n",
    "    # by default, random_normal has mean=0 and std=1.0\n",
    "    epsilon = K.random_normal(shape=(batch, dim))\n",
    "    return z_mean + K.exp( z_log_var) * epsilon"
   ]
  },
  {
   "cell_type": "code",
   "execution_count": 66,
   "metadata": {},
   "outputs": [],
   "source": [
    "sequence_length = 1000\n",
    "batch_size = 16\n",
    "latent_dim = 2\n",
    "\n",
    "input_seq = Input(shape=X.shape[1:])\n",
    "x = Conv1D(32, 16, padding='same', activation='relu')(input_seq)\n",
    "x = Conv1D(64, 16, padding='same', activation='relu')(x)\n",
    "x = Conv1D(64, 16, padding='same', activation='relu')(x)\n",
    "\n",
    "shape_before_flattening = K.int_shape(x)\n",
    "\n",
    "x = Flatten()(x)\n",
    "x = Dense(32, activation='relu')(x)\n",
    "\n",
    "# the sequence is encoded into these two features z_mean, z_log_var\n",
    "z_mean = Dense(latent_dim)(x)\n",
    "z_log_var = Dense(latent_dim)(x)\n",
    "\n",
    "z = Lambda(sampling)([z_mean, z_log_var])\n"
   ]
  },
  {
   "cell_type": "code",
   "execution_count": 67,
   "metadata": {},
   "outputs": [
    {
     "name": "stdout",
     "output_type": "stream",
     "text": [
      "_________________________________________________________________\n",
      "Layer (type)                 Output Shape              Param #   \n",
      "=================================================================\n",
      "input_16 (InputLayer)        (None, 2)                 0         \n",
      "_________________________________________________________________\n",
      "dense_19 (Dense)             (None, 64000)             192000    \n",
      "_________________________________________________________________\n",
      "reshape_11 (Reshape)         (None, 1000, 64)          0         \n",
      "_________________________________________________________________\n",
      "conv1d_30 (Conv1D)           (None, 1000, 32)          32800     \n",
      "_________________________________________________________________\n",
      "conv1d_31 (Conv1D)           (None, 1000, 1)           513       \n",
      "=================================================================\n",
      "Total params: 225,313\n",
      "Trainable params: 225,313\n",
      "Non-trainable params: 0\n",
      "_________________________________________________________________\n"
     ]
    }
   ],
   "source": [
    "decoder_input = Input(K.int_shape(z)[1:])\n",
    "\n",
    "x = Dense(np.prod(shape_before_flattening[1:]), activation='relu')(decoder_input)\n",
    "\n",
    "x = Reshape(shape_before_flattening[1:])(x)\n",
    "\n",
    "x = Conv1D(32, 16,padding='same', activation='relu')(x)\n",
    "\n",
    "x = Conv1D(1, 16, padding='same', activation='sigmoid')(x)\n",
    "\n",
    "decoder = Model(decoder_input, x)\n",
    "\n",
    "z_decoded = decoder(z)\n",
    "decoder.summary()\n"
   ]
  },
  {
   "cell_type": "code",
   "execution_count": 68,
   "metadata": {},
   "outputs": [],
   "source": [
    "class CustomVariationalLayer(tf.keras.layers.Layer):\n",
    "    \n",
    "    def vae_loss(self, x, z_decoded):\n",
    "        x = K.flatten(x)\n",
    "        z_decoded = K.flatten(z_decoded)\n",
    "        xent_loss = tf.keras.metrics.binary_crossentropy(x, z_decoded)\n",
    "        kl_loss = -5e-4 * K.mean(\n",
    "            1 + z_log_var - K.square(z_mean) - K.exp(z_log_var), axis=-1)\n",
    "        return K.mean(xent_loss + kl_loss)\n",
    "    \n",
    "    def call(self, inputs):\n",
    "        x = inputs[0]\n",
    "        z_decoded = inputs[1]\n",
    "        loss = self.vae_loss(x, z_decoded)\n",
    "        self.add_loss(loss, inputs=inputs)\n",
    "        return x"
   ]
  },
  {
   "cell_type": "code",
   "execution_count": 69,
   "metadata": {},
   "outputs": [],
   "source": [
    "y = CustomVariationalLayer()([input_seq, z_decoded])"
   ]
  },
  {
   "cell_type": "code",
   "execution_count": 70,
   "metadata": {},
   "outputs": [
    {
     "name": "stdout",
     "output_type": "stream",
     "text": [
      "WARNING:tensorflow:Output \"custom_variational_layer_2\" missing from loss dictionary. We assume this was done on purpose. The fit and evaluate APIs will not be expecting any data to be passed to \"custom_variational_layer_2\".\n",
      "__________________________________________________________________________________________________\n",
      "Layer (type)                    Output Shape         Param #     Connected to                     \n",
      "==================================================================================================\n",
      "input_15 (InputLayer)           (None, 1000, 1)      0                                            \n",
      "__________________________________________________________________________________________________\n",
      "conv1d_27 (Conv1D)              (None, 1000, 32)     544         input_15[0][0]                   \n",
      "__________________________________________________________________________________________________\n",
      "conv1d_28 (Conv1D)              (None, 1000, 64)     32832       conv1d_27[0][0]                  \n",
      "__________________________________________________________________________________________________\n",
      "conv1d_29 (Conv1D)              (None, 1000, 64)     65600       conv1d_28[0][0]                  \n",
      "__________________________________________________________________________________________________\n",
      "flatten_2 (Flatten)             (None, 64000)        0           conv1d_29[0][0]                  \n",
      "__________________________________________________________________________________________________\n",
      "dense_16 (Dense)                (None, 32)           2048032     flatten_2[0][0]                  \n",
      "__________________________________________________________________________________________________\n",
      "dense_17 (Dense)                (None, 2)            66          dense_16[0][0]                   \n",
      "__________________________________________________________________________________________________\n",
      "dense_18 (Dense)                (None, 2)            66          dense_16[0][0]                   \n",
      "__________________________________________________________________________________________________\n",
      "lambda_1 (Lambda)               (None, 2)            0           dense_17[0][0]                   \n",
      "                                                                 dense_18[0][0]                   \n",
      "__________________________________________________________________________________________________\n",
      "model_12 (Model)                (None, 1000, 1)      225313      lambda_1[0][0]                   \n",
      "__________________________________________________________________________________________________\n",
      "custom_variational_layer_2 (Cus (None, 1000, 1)      0           input_15[0][0]                   \n",
      "                                                                 model_12[1][0]                   \n",
      "==================================================================================================\n",
      "Total params: 2,372,453\n",
      "Trainable params: 2,372,453\n",
      "Non-trainable params: 0\n",
      "__________________________________________________________________________________________________\n"
     ]
    }
   ],
   "source": [
    "vae = Model(input_seq, y)\n",
    "vae.compile(optimizer='rmsprop', loss=None)\n",
    "vae.summary()"
   ]
  },
  {
   "cell_type": "code",
   "execution_count": 73,
   "metadata": {},
   "outputs": [
    {
     "name": "stdout",
     "output_type": "stream",
     "text": [
      "Epoch 1/20\n",
      "20/20 [==============================] - 0s 15ms/step - loss: 0.6503\n",
      "Epoch 2/20\n",
      "20/20 [==============================] - 0s 14ms/step - loss: 0.6427\n",
      "Epoch 3/20\n",
      "20/20 [==============================] - 0s 14ms/step - loss: 0.6350\n",
      "Epoch 4/20\n",
      "20/20 [==============================] - 0s 15ms/step - loss: 0.6275\n",
      "Epoch 5/20\n",
      "20/20 [==============================] - 0s 15ms/step - loss: 0.6218\n",
      "Epoch 6/20\n",
      "20/20 [==============================] - 0s 15ms/step - loss: 0.6203\n",
      "Epoch 7/20\n",
      "20/20 [==============================] - 0s 15ms/step - loss: 0.6197\n",
      "Epoch 8/20\n",
      "20/20 [==============================] - 0s 15ms/step - loss: 0.6172\n",
      "Epoch 9/20\n",
      "20/20 [==============================] - 0s 15ms/step - loss: 0.6177\n",
      "Epoch 10/20\n",
      "20/20 [==============================] - 0s 14ms/step - loss: 0.6162\n",
      "Epoch 11/20\n",
      "20/20 [==============================] - 0s 14ms/step - loss: 0.6179\n",
      "Epoch 12/20\n",
      "20/20 [==============================] - 0s 14ms/step - loss: 0.6158\n",
      "Epoch 13/20\n",
      "20/20 [==============================] - 0s 15ms/step - loss: 0.6152\n",
      "Epoch 14/20\n",
      "20/20 [==============================] - 0s 16ms/step - loss: 0.6152\n",
      "Epoch 15/20\n",
      "20/20 [==============================] - 0s 15ms/step - loss: 0.6149\n",
      "Epoch 16/20\n",
      "20/20 [==============================] - 0s 14ms/step - loss: 0.6165\n",
      "Epoch 17/20\n",
      "20/20 [==============================] - 0s 14ms/step - loss: 0.6166\n",
      "Epoch 18/20\n",
      "20/20 [==============================] - 0s 14ms/step - loss: 0.6183\n",
      "Epoch 19/20\n",
      "20/20 [==============================] - 0s 14ms/step - loss: 0.6139\n",
      "Epoch 20/20\n",
      "20/20 [==============================] - 0s 18ms/step - loss: 0.6133\n"
     ]
    },
    {
     "data": {
      "text/plain": [
       "<tensorflow.python.keras.callbacks.History at 0x7f952c91d5c0>"
      ]
     },
     "execution_count": 73,
     "metadata": {},
     "output_type": "execute_result"
    }
   ],
   "source": [
    "vae.fit(x=X,y=None, epochs=20)"
   ]
  },
  {
   "cell_type": "code",
   "execution_count": 102,
   "metadata": {},
   "outputs": [],
   "source": [
    "from scipy.stats import norm\n",
    "n=10\n",
    "figure = np.zeros((n*sequence_length))\n",
    "grid_x = norm.ppf(np.linspace(0.05, 0.095))"
   ]
  },
  {
   "cell_type": "code",
   "execution_count": 109,
   "metadata": {},
   "outputs": [],
   "source": [
    "s = np.random.normal(0, 0.1, 1000)\n",
    "s = s.reshape(1,1000,1)"
   ]
  },
  {
   "cell_type": "code",
   "execution_count": 111,
   "metadata": {},
   "outputs": [],
   "source": [
    "p = vae.predict(s)"
   ]
  },
  {
   "cell_type": "code",
   "execution_count": 112,
   "metadata": {},
   "outputs": [
    {
     "data": {
      "text/plain": [
       "(1, 1000, 1)"
      ]
     },
     "execution_count": 112,
     "metadata": {},
     "output_type": "execute_result"
    }
   ],
   "source": [
    "p.shape"
   ]
  },
  {
   "cell_type": "code",
   "execution_count": 118,
   "metadata": {},
   "outputs": [
    {
     "data": {
      "text/plain": [
       "<matplotlib.legend.Legend at 0x7f951919cda0>"
      ]
     },
     "execution_count": 118,
     "metadata": {},
     "output_type": "execute_result"
    },
    {
     "data": {
      "image/png": "[encoded data removed]",
      "text/plain": [
       "<Figure size 432x288 with 1 Axes>"
      ]
     },
     "metadata": {
      "needs_background": "light"
     },
     "output_type": "display_data"
    }
   ],
   "source": [
    "plt.plot(p[0,:,0], label='prediction')\n",
    "plt.plot(X[0,:,0], label='actual')\n",
    "plt.legend()"
   ]
  },
  {
   "cell_type": "code",
   "execution_count": null,
   "metadata": {},
   "outputs": [],
   "source": []
  },
  {
   "cell_type": "code",
   "execution_count": null,
   "metadata": {},
   "outputs": [],
   "source": []
  },
  {
   "cell_type": "code",
   "execution_count": 43,
   "metadata": {},
   "outputs": [
    {
     "name": "stdout",
     "output_type": "stream",
     "text": [
      "_________________________________________________________________\n",
      "Layer (type)                 Output Shape              Param #   \n",
      "=================================================================\n",
      "z_sampling (InputLayer)      (None, 2)                 0         \n",
      "_________________________________________________________________\n",
      "dense_11 (Dense)             (None, 512)               1536      \n",
      "_________________________________________________________________\n",
      "dense_12 (Dense)             (None, 1000)              513000    \n",
      "=================================================================\n",
      "Total params: 514,536\n",
      "Trainable params: 514,536\n",
      "Non-trainable params: 0\n",
      "_________________________________________________________________\n"
     ]
    }
   ],
   "source": [
    "# build decoder model\n",
    "latent_inputs = Input(shape=(2,), name='z_sampling')\n",
    "x = Dense(512, activation='relu')(latent_inputs)\n",
    "outputs = Dense(1000, activation='sigmoid')(x)\n",
    "\n",
    "# instantiate decoder model\n",
    "decoder = Model(latent_inputs, outputs, name='decoder')\n",
    "decoder.summary()\n",
    "\n",
    "# instantiate VAE model\n",
    "outputs = decoder(encoder(inputs)[2])\n",
    "vae = Model(inputs, outputs, name='vae_mlp')"
   ]
  },
  {
   "cell_type": "code",
   "execution_count": 53,
   "metadata": {},
   "outputs": [
    {
     "name": "stdout",
     "output_type": "stream",
     "text": [
      "WARNING:tensorflow:Output \"decoder\" missing from loss dictionary. We assume this was done on purpose. The fit and evaluate APIs will not be expecting any data to be passed to \"decoder\".\n",
      "_________________________________________________________________\n",
      "Layer (type)                 Output Shape              Param #   \n",
      "=================================================================\n",
      "encoder_input (InputLayer)   (None, 1000)              0         \n",
      "_________________________________________________________________\n",
      "encoder (Model)              [(None, 2), (None, 2), (N 514564    \n",
      "_________________________________________________________________\n",
      "decoder (Model)              (None, 1000)              514536    \n",
      "=================================================================\n",
      "Total params: 1,029,100\n",
      "Trainable params: 1,029,100\n",
      "Non-trainable params: 0\n",
      "_________________________________________________________________\n"
     ]
    }
   ],
   "source": [
    "reconstruction_loss = mse(inputs, outputs)\n",
    "reconstruction_loss *= 1\n",
    "kl_loss = 1 + z_log_var - K.square(z_mean) - K.exp(z_log_var)\n",
    "kl_loss = K.sum(kl_loss, axis=-1)\n",
    "kl_loss *= -0.5\n",
    "vae_loss = K.mean(reconstruction_loss + kl_loss)\n",
    "vae.add_loss(vae_loss)\n",
    "vae.compile(optimizer='adam')\n",
    "vae.summary()\n"
   ]
  },
  {
   "cell_type": "code",
   "execution_count": 55,
   "metadata": {},
   "outputs": [
    {
     "name": "stdout",
     "output_type": "stream",
     "text": [
      "Train on 18 samples, validate on 2 samples\n",
      "Epoch 1/10\n",
      "18/18 [==============================] - 0s 569us/step - loss: nan - val_loss: nan\n",
      "Epoch 2/10\n",
      "18/18 [==============================] - 0s 578us/step - loss: nan - val_loss: nan\n",
      "Epoch 3/10\n",
      "18/18 [==============================] - 0s 454us/step - loss: nan - val_loss: nan\n",
      "Epoch 4/10\n",
      "18/18 [==============================] - 0s 530us/step - loss: nan - val_loss: nan\n",
      "Epoch 5/10\n",
      "18/18 [==============================] - 0s 468us/step - loss: nan - val_loss: nan\n",
      "Epoch 6/10\n",
      "18/18 [==============================] - 0s 535us/step - loss: nan - val_loss: nan\n",
      "Epoch 7/10\n",
      "18/18 [==============================] - 0s 509us/step - loss: nan - val_loss: nan\n",
      "Epoch 8/10\n",
      "18/18 [==============================] - 0s 601us/step - loss: nan - val_loss: nan\n",
      "Epoch 9/10\n",
      "18/18 [==============================] - 0s 523us/step - loss: nan - val_loss: nan\n",
      "Epoch 10/10\n",
      "18/18 [==============================] - 0s 508us/step - loss: nan - val_loss: nan\n"
     ]
    },
    {
     "data": {
      "text/plain": [
       "<tensorflow.python.keras.callbacks.History at 0x7f1e50710c18>"
      ]
     },
     "execution_count": 55,
     "metadata": {},
     "output_type": "execute_result"
    }
   ],
   "source": [
    "vae.fit(X,\n",
    "        epochs=10,\n",
    "        batch_size=512,\n",
    "        validation_split=0.1)"
   ]
  },
  {
   "cell_type": "code",
   "execution_count": null,
   "metadata": {},
   "outputs": [],
   "source": []
  }
 ],
 "metadata": {
  "hide_input": false,
  "kernelspec": {
   "display_name": "Python 3",
   "language": "python",
   "name": "python3"
  },
  "language_info": {
   "codemirror_mode": {
    "name": "ipython",
    "version": 3
   },
   "file_extension": ".py",
   "mimetype": "text/x-python",
   "name": "python",
   "nbconvert_exporter": "python",
   "pygments_lexer": "ipython3",
   "version": "3.6.8"
  },
  "toc": {
   "base_numbering": 1,
   "nav_menu": {},
   "number_sections": true,
   "sideBar": true,
   "skip_h1_title": false,
   "title_cell": "Table of Contents",
   "title_sidebar": "Contents",
   "toc_cell": false,
   "toc_position": {},
   "toc_section_display": true,
   "toc_window_display": false
  }
 },
 "nbformat": 4,
 "nbformat_minor": 2
}
