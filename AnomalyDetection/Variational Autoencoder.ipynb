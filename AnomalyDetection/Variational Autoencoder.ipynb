{
 "cells": [
  {
   "cell_type": "code",
   "execution_count": 1,
   "metadata": {},
   "outputs": [],
   "source": [
    "import tensorflow as tf\n",
    "import numpy as np\n",
    "from tensorflow.keras.layers import *\n",
    "from tensorflow.keras.models import Model\n",
    "from pathlib import Path\n",
    "import pandas as pd\n",
    "from tensorflow.keras.losses import mse, binary_crossentropy\n",
    "from tensorflow.keras import backend as K\n",
    "import matplotlib.pyplot as plt\n",
    "from sklearn.preprocessing import MinMaxScaler"
   ]
  },
  {
   "cell_type": "code",
   "execution_count": 9,
   "metadata": {},
   "outputs": [],
   "source": [
    "df_normal_list = []\n",
    "pathlist = Path(\"/home/aggelos-i3/Downloads/simu Elbas/7h33NO\").glob('**/*.xls')\n",
    "for path in pathlist:\n",
    "    # because path is object not string\n",
    "    path_in_str = str(path)\n",
    "    df = pd.read_csv(path_in_str, delimiter='\\t')\n",
    "    df = df[['loc. (actual) [km]', 'voltage [V]']]\n",
    "    #df = df.set_index(\"loc. (actual) [km]\")\n",
    "    df.sort_index(inplace=True)\n",
    "    df_normal_list.append(df['voltage [V]'][:1000])"
   ]
  },
  {
   "cell_type": "code",
   "execution_count": 10,
   "metadata": {},
   "outputs": [],
   "source": [
    "df = pd.DataFrame(df_normal_list)\n",
    "df.head()\n",
    "X = df.values\n",
    "scaler = MinMaxScaler()\n",
    "X = scaler.fit_transform(X)\n",
    "X = X.reshape(X.shape[0], X.shape[1], 1)"
   ]
  },
  {
   "cell_type": "code",
   "execution_count": 11,
   "metadata": {},
   "outputs": [],
   "source": [
    "# reparameterization trick\n",
    "# instead of sampling from Q(z|X), sample eps = N(0,I)\n",
    "# z = z_mean + sqrt(var)*eps\n",
    "def sampling(args):\n",
    "    \"\"\"Reparameterization trick by sampling fr an isotropic unit Gaussian.\n",
    "\n",
    "    # Arguments\n",
    "        args (tensor): mean and log of variance of Q(z|X)\n",
    "\n",
    "    # Returns\n",
    "        z (tensor): sampled latent vector\n",
    "    \"\"\"\n",
    "\n",
    "    z_mean, z_log_var = args\n",
    "    batch = K.shape(z_mean)[0]\n",
    "    dim = latent_dim\n",
    "    # by default, random_normal has mean=0 and std=1.0\n",
    "    epsilon = K.random_normal(shape=(batch, dim))\n",
    "    return z_mean + K.exp( z_log_var) * epsilon"
   ]
  },
  {
   "cell_type": "code",
   "execution_count": 40,
   "metadata": {},
   "outputs": [],
   "source": [
    "sequence_length = 320\n",
    "batch_size = 16\n",
    "latent_dim = 2\n",
    "\n",
    "input_seq = Input(shape=X.shape[1:])\n",
    "x = Conv1D(32, 32, padding='same', activation='relu')(input_seq)\n",
    "x = Conv1D(64, 32, padding='same', activation='relu')(x)\n",
    "x = Conv1D(64, 32, padding='same', activation='relu')(x)\n",
    "\n",
    "shape_before_flattening = K.int_shape(x)\n",
    "\n",
    "x = Flatten()(x)\n",
    "x = Dense(32, activation='relu')(x)\n",
    "\n",
    "# the sequence is encoded into these two features z_mean, z_log_var\n",
    "z_mean = Dense(latent_dim)(x)\n",
    "z_log_var = Dense(latent_dim)(x)\n",
    "\n",
    "z = Lambda(sampling)([z_mean, z_log_var])\n"
   ]
  },
  {
   "cell_type": "code",
   "execution_count": 41,
   "metadata": {},
   "outputs": [
    {
     "name": "stdout",
     "output_type": "stream",
     "text": [
      "_________________________________________________________________\n",
      "Layer (type)                 Output Shape              Param #   \n",
      "=================================================================\n",
      "input_8 (InputLayer)         (None, 2)                 0         \n",
      "_________________________________________________________________\n",
      "dense_15 (Dense)             (None, 64000)             192000    \n",
      "_________________________________________________________________\n",
      "reshape_3 (Reshape)          (None, 1000, 64)          0         \n",
      "_________________________________________________________________\n",
      "conv1d_18 (Conv1D)           (None, 1000, 32)          65568     \n",
      "_________________________________________________________________\n",
      "conv1d_19 (Conv1D)           (None, 1000, 1)           1025      \n",
      "=================================================================\n",
      "Total params: 258,593\n",
      "Trainable params: 258,593\n",
      "Non-trainable params: 0\n",
      "_________________________________________________________________\n"
     ]
    }
   ],
   "source": [
    "decoder_input = Input(K.int_shape(z)[1:])\n",
    "\n",
    "x = Dense(np.prod(shape_before_flattening[1:]), activation='relu')(decoder_input)\n",
    "\n",
    "x = Reshape(shape_before_flattening[1:])(x)\n",
    "\n",
    "x = Conv1D(32, 32,padding='same', activation='relu')(x)\n",
    "\n",
    "x = Conv1D(1, 32, padding='same', activation='sigmoid')(x)\n",
    "\n",
    "decoder = Model(decoder_input, x)\n",
    "\n",
    "z_decoded = decoder(z)\n",
    "decoder.summary()\n"
   ]
  },
  {
   "cell_type": "code",
   "execution_count": 42,
   "metadata": {},
   "outputs": [],
   "source": [
    "class CustomVariationalLayer(tf.keras.layers.Layer):\n",
    "    \n",
    "    def vae_loss(self, x, z_decoded):\n",
    "        x = K.flatten(x)\n",
    "        z_decoded = K.flatten(z_decoded)\n",
    "        xent_loss = tf.keras.metrics.binary_crossentropy(x, z_decoded)\n",
    "        kl_loss = -5e-4 * K.mean(\n",
    "            1 + z_log_var - K.square(z_mean) - K.exp(z_log_var), axis=-1)\n",
    "        return K.mean(xent_loss + kl_loss)\n",
    "    \n",
    "    def call(self, inputs):\n",
    "        x = inputs[0]\n",
    "        z_decoded = inputs[1]\n",
    "        loss = self.vae_loss(x, z_decoded)\n",
    "        self.add_loss(loss, inputs=inputs)\n",
    "        return x"
   ]
  },
  {
   "cell_type": "code",
   "execution_count": 43,
   "metadata": {},
   "outputs": [],
   "source": [
    "y = CustomVariationalLayer()([input_seq, z_decoded])"
   ]
  },
  {
   "cell_type": "code",
   "execution_count": 44,
   "metadata": {},
   "outputs": [
    {
     "name": "stdout",
     "output_type": "stream",
     "text": [
      "WARNING:tensorflow:Output \"custom_variational_layer_4\" missing from loss dictionary. We assume this was done on purpose. The fit and evaluate APIs will not be expecting any data to be passed to \"custom_variational_layer_4\".\n",
      "__________________________________________________________________________________________________\n",
      "Layer (type)                    Output Shape         Param #     Connected to                     \n",
      "==================================================================================================\n",
      "input_7 (InputLayer)            (None, 1000, 1)      0                                            \n",
      "__________________________________________________________________________________________________\n",
      "conv1d_15 (Conv1D)              (None, 1000, 32)     1056        input_7[0][0]                    \n",
      "__________________________________________________________________________________________________\n",
      "conv1d_16 (Conv1D)              (None, 1000, 64)     65600       conv1d_15[0][0]                  \n",
      "__________________________________________________________________________________________________\n",
      "conv1d_17 (Conv1D)              (None, 1000, 64)     131136      conv1d_16[0][0]                  \n",
      "__________________________________________________________________________________________________\n",
      "flatten_3 (Flatten)             (None, 64000)        0           conv1d_17[0][0]                  \n",
      "__________________________________________________________________________________________________\n",
      "dense_12 (Dense)                (None, 32)           2048032     flatten_3[0][0]                  \n",
      "__________________________________________________________________________________________________\n",
      "dense_13 (Dense)                (None, 2)            66          dense_12[0][0]                   \n",
      "__________________________________________________________________________________________________\n",
      "dense_14 (Dense)                (None, 2)            66          dense_12[0][0]                   \n",
      "__________________________________________________________________________________________________\n",
      "lambda_3 (Lambda)               (None, 2)            0           dense_13[0][0]                   \n",
      "                                                                 dense_14[0][0]                   \n",
      "__________________________________________________________________________________________________\n",
      "model_6 (Model)                 (None, 1000, 1)      258593      lambda_3[0][0]                   \n",
      "__________________________________________________________________________________________________\n",
      "custom_variational_layer_4 (Cus (None, 1000, 1)      0           input_7[0][0]                    \n",
      "                                                                 model_6[1][0]                    \n",
      "==================================================================================================\n",
      "Total params: 2,504,549\n",
      "Trainable params: 2,504,549\n",
      "Non-trainable params: 0\n",
      "__________________________________________________________________________________________________\n"
     ]
    }
   ],
   "source": [
    "vae = Model(input_seq, y)\n",
    "vae.compile(optimizer='rmsprop', loss=None)\n",
    "vae.summary()"
   ]
  },
  {
   "cell_type": "code",
   "execution_count": 46,
   "metadata": {},
   "outputs": [
    {
     "name": "stdout",
     "output_type": "stream",
     "text": [
      "Epoch 1/100\n",
      "20/20 [==============================] - 0s 14ms/step - loss: 0.6376\n",
      "Epoch 2/100\n",
      "20/20 [==============================] - 0s 13ms/step - loss: 0.6211\n",
      "Epoch 3/100\n",
      "20/20 [==============================] - 0s 13ms/step - loss: 0.6170\n",
      "Epoch 4/100\n",
      "20/20 [==============================] - 0s 14ms/step - loss: 0.6107\n",
      "Epoch 5/100\n",
      "20/20 [==============================] - 0s 14ms/step - loss: 0.6303\n",
      "Epoch 6/100\n",
      "20/20 [==============================] - 0s 15ms/step - loss: 0.6229\n",
      "Epoch 7/100\n",
      "20/20 [==============================] - 0s 13ms/step - loss: 0.6320\n",
      "Epoch 8/100\n",
      "20/20 [==============================] - 0s 13ms/step - loss: 0.5932\n",
      "Epoch 9/100\n",
      "20/20 [==============================] - 0s 15ms/step - loss: 0.5841\n",
      "Epoch 10/100\n",
      "20/20 [==============================] - 0s 14ms/step - loss: 0.5962\n",
      "Epoch 11/100\n",
      "20/20 [==============================] - 0s 13ms/step - loss: 0.5801\n",
      "Epoch 12/100\n",
      "20/20 [==============================] - 0s 14ms/step - loss: 0.5731\n",
      "Epoch 13/100\n",
      "20/20 [==============================] - 0s 14ms/step - loss: 0.5739\n",
      "Epoch 14/100\n",
      "20/20 [==============================] - 0s 13ms/step - loss: 0.5748\n",
      "Epoch 15/100\n",
      "20/20 [==============================] - 0s 14ms/step - loss: 0.6001\n",
      "Epoch 16/100\n",
      "20/20 [==============================] - 0s 14ms/step - loss: 0.5770\n",
      "Epoch 17/100\n",
      "20/20 [==============================] - 0s 13ms/step - loss: 0.5842\n",
      "Epoch 18/100\n",
      "20/20 [==============================] - 0s 15ms/step - loss: 0.5679\n",
      "Epoch 19/100\n",
      "20/20 [==============================] - 0s 14ms/step - loss: 0.5738\n",
      "Epoch 20/100\n",
      "20/20 [==============================] - 0s 13ms/step - loss: 0.5682\n",
      "Epoch 21/100\n",
      "20/20 [==============================] - 0s 13ms/step - loss: 0.5718\n",
      "Epoch 22/100\n",
      "20/20 [==============================] - 0s 13ms/step - loss: 0.5664\n",
      "Epoch 23/100\n",
      "20/20 [==============================] - 0s 15ms/step - loss: 0.5696\n",
      "Epoch 24/100\n",
      "20/20 [==============================] - 0s 13ms/step - loss: 0.5676\n",
      "Epoch 25/100\n",
      "20/20 [==============================] - 0s 13ms/step - loss: 0.5741\n",
      "Epoch 26/100\n",
      "20/20 [==============================] - 0s 13ms/step - loss: 0.5652\n",
      "Epoch 27/100\n",
      "20/20 [==============================] - 0s 13ms/step - loss: 0.5669\n",
      "Epoch 28/100\n",
      "20/20 [==============================] - 0s 13ms/step - loss: 0.5634\n",
      "Epoch 29/100\n",
      "20/20 [==============================] - 0s 15ms/step - loss: 0.5683\n",
      "Epoch 30/100\n",
      "20/20 [==============================] - 0s 14ms/step - loss: 0.5641\n",
      "Epoch 31/100\n",
      "20/20 [==============================] - 0s 13ms/step - loss: 0.5640\n",
      "Epoch 32/100\n",
      "20/20 [==============================] - 0s 14ms/step - loss: 0.5661\n",
      "Epoch 33/100\n",
      "20/20 [==============================] - 0s 13ms/step - loss: 0.5761\n",
      "Epoch 34/100\n",
      "20/20 [==============================] - 0s 13ms/step - loss: 0.5644\n",
      "Epoch 35/100\n",
      "20/20 [==============================] - 0s 14ms/step - loss: 0.5666\n",
      "Epoch 36/100\n",
      "20/20 [==============================] - 0s 14ms/step - loss: 0.5612\n",
      "Epoch 37/100\n",
      "20/20 [==============================] - 0s 14ms/step - loss: 0.5640\n",
      "Epoch 38/100\n",
      "20/20 [==============================] - 0s 16ms/step - loss: 0.5605\n",
      "Epoch 39/100\n",
      "20/20 [==============================] - 0s 14ms/step - loss: 0.5602\n",
      "Epoch 40/100\n",
      "20/20 [==============================] - 0s 15ms/step - loss: 0.5607\n",
      "Epoch 41/100\n",
      "20/20 [==============================] - 0s 15ms/step - loss: 0.5667\n",
      "Epoch 42/100\n",
      "20/20 [==============================] - 0s 15ms/step - loss: 0.5581\n",
      "Epoch 43/100\n",
      "20/20 [==============================] - 0s 14ms/step - loss: 0.5616\n",
      "Epoch 44/100\n",
      "20/20 [==============================] - 0s 15ms/step - loss: 0.5591\n",
      "Epoch 45/100\n",
      "20/20 [==============================] - 0s 13ms/step - loss: 0.5647\n",
      "Epoch 46/100\n",
      "20/20 [==============================] - 0s 14ms/step - loss: 0.5594\n",
      "Epoch 47/100\n",
      "20/20 [==============================] - 0s 13ms/step - loss: 0.5630\n",
      "Epoch 48/100\n",
      "20/20 [==============================] - 0s 14ms/step - loss: 0.5578\n",
      "Epoch 49/100\n",
      "20/20 [==============================] - 0s 15ms/step - loss: 0.5604\n",
      "Epoch 50/100\n",
      "20/20 [==============================] - 0s 13ms/step - loss: 0.5590\n",
      "Epoch 51/100\n",
      "20/20 [==============================] - 0s 13ms/step - loss: 0.5536\n",
      "Epoch 52/100\n",
      "20/20 [==============================] - 0s 13ms/step - loss: 0.5544\n",
      "Epoch 53/100\n",
      "20/20 [==============================] - 0s 13ms/step - loss: 0.5564\n",
      "Epoch 54/100\n",
      "20/20 [==============================] - 0s 15ms/step - loss: 0.5537\n",
      "Epoch 55/100\n",
      "20/20 [==============================] - 0s 14ms/step - loss: 0.5543\n",
      "Epoch 56/100\n",
      "20/20 [==============================] - 0s 14ms/step - loss: 0.5566\n",
      "Epoch 57/100\n",
      "20/20 [==============================] - 0s 15ms/step - loss: 0.5697\n",
      "Epoch 58/100\n",
      "20/20 [==============================] - 0s 14ms/step - loss: 0.5526\n",
      "Epoch 59/100\n",
      "20/20 [==============================] - 0s 14ms/step - loss: 0.5625\n",
      "Epoch 60/100\n",
      "20/20 [==============================] - 0s 15ms/step - loss: 0.5543\n",
      "Epoch 61/100\n",
      "20/20 [==============================] - 0s 14ms/step - loss: 0.5582\n",
      "Epoch 62/100\n",
      "20/20 [==============================] - 0s 14ms/step - loss: 0.5527\n",
      "Epoch 63/100\n",
      "20/20 [==============================] - 0s 15ms/step - loss: 0.5501\n",
      "Epoch 64/100\n",
      "20/20 [==============================] - 0s 15ms/step - loss: 0.5483\n",
      "Epoch 65/100\n",
      "20/20 [==============================] - 0s 14ms/step - loss: 0.5472\n",
      "Epoch 66/100\n",
      "20/20 [==============================] - 0s 14ms/step - loss: 0.5485\n",
      "Epoch 67/100\n",
      "20/20 [==============================] - 0s 14ms/step - loss: 0.5569\n",
      "Epoch 68/100\n",
      "20/20 [==============================] - 0s 15ms/step - loss: 0.5608\n",
      "Epoch 69/100\n",
      "20/20 [==============================] - 0s 14ms/step - loss: 0.5635\n",
      "Epoch 70/100\n",
      "20/20 [==============================] - 0s 14ms/step - loss: 0.5492\n",
      "Epoch 71/100\n",
      "20/20 [==============================] - 0s 14ms/step - loss: 0.5497\n",
      "Epoch 72/100\n",
      "20/20 [==============================] - 0s 14ms/step - loss: 0.5488\n",
      "Epoch 73/100\n",
      "20/20 [==============================] - 0s 14ms/step - loss: 0.5538\n",
      "Epoch 74/100\n",
      "20/20 [==============================] - 0s 14ms/step - loss: 0.5464\n",
      "Epoch 75/100\n",
      "20/20 [==============================] - 0s 15ms/step - loss: 0.5506\n",
      "Epoch 76/100\n",
      "20/20 [==============================] - 0s 15ms/step - loss: 0.5469\n",
      "Epoch 77/100\n",
      "20/20 [==============================] - 0s 14ms/step - loss: 0.5525\n",
      "Epoch 78/100\n",
      "20/20 [==============================] - 0s 14ms/step - loss: 0.5534\n",
      "Epoch 79/100\n",
      "20/20 [==============================] - 0s 14ms/step - loss: 0.5546\n",
      "Epoch 80/100\n",
      "20/20 [==============================] - 0s 14ms/step - loss: 0.5513\n",
      "Epoch 81/100\n",
      "20/20 [==============================] - 0s 14ms/step - loss: 0.5508\n",
      "Epoch 82/100\n",
      "20/20 [==============================] - 0s 13ms/step - loss: 0.5486\n",
      "Epoch 83/100\n",
      "20/20 [==============================] - 0s 14ms/step - loss: 0.5545\n",
      "Epoch 84/100\n",
      "20/20 [==============================] - 0s 14ms/step - loss: 0.5474\n",
      "Epoch 85/100\n",
      "20/20 [==============================] - 0s 14ms/step - loss: 0.5532\n",
      "Epoch 86/100\n",
      "20/20 [==============================] - 0s 14ms/step - loss: 0.5446\n",
      "Epoch 87/100\n",
      "20/20 [==============================] - 0s 13ms/step - loss: 0.5487\n",
      "Epoch 88/100\n",
      "20/20 [==============================] - 0s 13ms/step - loss: 0.5467\n",
      "Epoch 89/100\n",
      "20/20 [==============================] - 0s 14ms/step - loss: 0.5460\n",
      "Epoch 90/100\n",
      "20/20 [==============================] - 0s 14ms/step - loss: 0.5426\n",
      "Epoch 91/100\n",
      "20/20 [==============================] - 0s 14ms/step - loss: 0.5457\n",
      "Epoch 92/100\n",
      "20/20 [==============================] - 0s 14ms/step - loss: 0.5447\n",
      "Epoch 93/100\n",
      "20/20 [==============================] - 0s 14ms/step - loss: 0.5471\n",
      "Epoch 94/100\n",
      "20/20 [==============================] - 0s 14ms/step - loss: 0.5423\n",
      "Epoch 95/100\n",
      "20/20 [==============================] - 0s 14ms/step - loss: 0.5456\n",
      "Epoch 96/100\n",
      "20/20 [==============================] - 0s 14ms/step - loss: 0.5419\n",
      "Epoch 97/100\n",
      "20/20 [==============================] - 0s 14ms/step - loss: 0.5487\n",
      "Epoch 98/100\n",
      "20/20 [==============================] - 0s 13ms/step - loss: 0.5409\n",
      "Epoch 99/100\n",
      "20/20 [==============================] - 0s 14ms/step - loss: 0.5443\n",
      "Epoch 100/100\n",
      "20/20 [==============================] - 0s 14ms/step - loss: 0.5398\n"
     ]
    },
    {
     "data": {
      "text/plain": [
       "<tensorflow.python.keras.callbacks.History at 0x7fc971758d68>"
      ]
     },
     "execution_count": 46,
     "metadata": {},
     "output_type": "execute_result"
    }
   ],
   "source": [
    "vae.fit(x=X,y=None, epochs=100)"
   ]
  },
  {
   "cell_type": "code",
   "execution_count": 47,
   "metadata": {},
   "outputs": [],
   "source": [
    "from scipy.stats import norm\n",
    "n=10\n",
    "figure = np.zeros((n*sequence_length))\n",
    "grid_x = norm.ppf(np.linspace(0.05, 0.095))"
   ]
  },
  {
   "cell_type": "code",
   "execution_count": 48,
   "metadata": {},
   "outputs": [],
   "source": [
    "s = np.random.normal(0, 0.1, 1000)\n",
    "s = s.reshape(1,1000,1)"
   ]
  },
  {
   "cell_type": "code",
   "execution_count": 49,
   "metadata": {},
   "outputs": [],
   "source": [
    "p = vae.predict(s)"
   ]
  },
  {
   "cell_type": "code",
   "execution_count": 50,
   "metadata": {},
   "outputs": [
    {
     "data": {
      "text/plain": [
       "(1, 1000, 1)"
      ]
     },
     "execution_count": 50,
     "metadata": {},
     "output_type": "execute_result"
    }
   ],
   "source": [
    "p.shape"
   ]
  },
  {
   "cell_type": "code",
   "execution_count": 51,
   "metadata": {},
   "outputs": [
    {
     "data": {
      "text/plain": [
       "<matplotlib.legend.Legend at 0x7fc970c475f8>"
      ]
     },
     "execution_count": 51,
     "metadata": {},
     "output_type": "execute_result"
    },
    {
     "data": {
      "image/png": "[encoded data removed]",
      "text/plain": [
       "<Figure size 432x288 with 1 Axes>"
      ]
     },
     "metadata": {
      "needs_background": "light"
     },
     "output_type": "display_data"
    }
   ],
   "source": [
    "plt.plot(p[0,:,0], label='prediction')\n",
    "plt.plot(X[0,:,0], label='actual')\n",
    "plt.legend()"
   ]
  },
  {
   "cell_type": "code",
   "execution_count": null,
   "metadata": {},
   "outputs": [],
   "source": []
  },
  {
   "cell_type": "code",
   "execution_count": null,
   "metadata": {},
   "outputs": [],
   "source": []
  },
  {
   "cell_type": "code",
   "execution_count": 43,
   "metadata": {},
   "outputs": [
    {
     "name": "stdout",
     "output_type": "stream",
     "text": [
      "_________________________________________________________________\n",
      "Layer (type)                 Output Shape              Param #   \n",
      "=================================================================\n",
      "z_sampling (InputLayer)      (None, 2)                 0         \n",
      "_________________________________________________________________\n",
      "dense_11 (Dense)             (None, 512)               1536      \n",
      "_________________________________________________________________\n",
      "dense_12 (Dense)             (None, 1000)              513000    \n",
      "=================================================================\n",
      "Total params: 514,536\n",
      "Trainable params: 514,536\n",
      "Non-trainable params: 0\n",
      "_________________________________________________________________\n"
     ]
    }
   ],
   "source": [
    "# build decoder model\n",
    "latent_inputs = Input(shape=(2,), name='z_sampling')\n",
    "x = Dense(512, activation='relu')(latent_inputs)\n",
    "outputs = Dense(1000, activation='sigmoid')(x)\n",
    "\n",
    "# instantiate decoder model\n",
    "decoder = Model(latent_inputs, outputs, name='decoder')\n",
    "decoder.summary()\n",
    "\n",
    "# instantiate VAE model\n",
    "outputs = decoder(encoder(inputs)[2])\n",
    "vae = Model(inputs, outputs, name='vae_mlp')"
   ]
  },
  {
   "cell_type": "code",
   "execution_count": 53,
   "metadata": {},
   "outputs": [
    {
     "name": "stdout",
     "output_type": "stream",
     "text": [
      "WARNING:tensorflow:Output \"decoder\" missing from loss dictionary. We assume this was done on purpose. The fit and evaluate APIs will not be expecting any data to be passed to \"decoder\".\n",
      "_________________________________________________________________\n",
      "Layer (type)                 Output Shape              Param #   \n",
      "=================================================================\n",
      "encoder_input (InputLayer)   (None, 1000)              0         \n",
      "_________________________________________________________________\n",
      "encoder (Model)              [(None, 2), (None, 2), (N 514564    \n",
      "_________________________________________________________________\n",
      "decoder (Model)              (None, 1000)              514536    \n",
      "=================================================================\n",
      "Total params: 1,029,100\n",
      "Trainable params: 1,029,100\n",
      "Non-trainable params: 0\n",
      "_________________________________________________________________\n"
     ]
    }
   ],
   "source": [
    "reconstruction_loss = mse(inputs, outputs)\n",
    "reconstruction_loss *= 1\n",
    "kl_loss = 1 + z_log_var - K.square(z_mean) - K.exp(z_log_var)\n",
    "kl_loss = K.sum(kl_loss, axis=-1)\n",
    "kl_loss *= -0.5\n",
    "vae_loss = K.mean(reconstruction_loss + kl_loss)\n",
    "vae.add_loss(vae_loss)\n",
    "vae.compile(optimizer='adam')\n",
    "vae.summary()\n"
   ]
  },
  {
   "cell_type": "code",
   "execution_count": 55,
   "metadata": {},
   "outputs": [
    {
     "name": "stdout",
     "output_type": "stream",
     "text": [
      "Train on 18 samples, validate on 2 samples\n",
      "Epoch 1/10\n",
      "18/18 [==============================] - 0s 569us/step - loss: nan - val_loss: nan\n",
      "Epoch 2/10\n",
      "18/18 [==============================] - 0s 578us/step - loss: nan - val_loss: nan\n",
      "Epoch 3/10\n",
      "18/18 [==============================] - 0s 454us/step - loss: nan - val_loss: nan\n",
      "Epoch 4/10\n",
      "18/18 [==============================] - 0s 530us/step - loss: nan - val_loss: nan\n",
      "Epoch 5/10\n",
      "18/18 [==============================] - 0s 468us/step - loss: nan - val_loss: nan\n",
      "Epoch 6/10\n",
      "18/18 [==============================] - 0s 535us/step - loss: nan - val_loss: nan\n",
      "Epoch 7/10\n",
      "18/18 [==============================] - 0s 509us/step - loss: nan - val_loss: nan\n",
      "Epoch 8/10\n",
      "18/18 [==============================] - 0s 601us/step - loss: nan - val_loss: nan\n",
      "Epoch 9/10\n",
      "18/18 [==============================] - 0s 523us/step - loss: nan - val_loss: nan\n",
      "Epoch 10/10\n",
      "18/18 [==============================] - 0s 508us/step - loss: nan - val_loss: nan\n"
     ]
    },
    {
     "data": {
      "text/plain": [
       "<tensorflow.python.keras.callbacks.History at 0x7f1e50710c18>"
      ]
     },
     "execution_count": 55,
     "metadata": {},
     "output_type": "execute_result"
    }
   ],
   "source": [
    "vae.fit(X,\n",
    "        epochs=10,\n",
    "        batch_size=512,\n",
    "        validation_split=0.1)"
   ]
  },
  {
   "cell_type": "code",
   "execution_count": null,
   "metadata": {},
   "outputs": [],
   "source": []
  }
 ],
 "metadata": {
  "hide_input": false,
  "kernelspec": {
   "display_name": "Python 3",
   "language": "python",
   "name": "python3"
  },
  "language_info": {
   "codemirror_mode": {
    "name": "ipython",
    "version": 3
   },
   "file_extension": ".py",
   "mimetype": "text/x-python",
   "name": "python",
   "nbconvert_exporter": "python",
   "pygments_lexer": "ipython3",
   "version": "3.6.5"
  },
  "toc": {
   "base_numbering": 1,
   "nav_menu": {},
   "number_sections": true,
   "sideBar": true,
   "skip_h1_title": false,
   "title_cell": "Table of Contents",
   "title_sidebar": "Contents",
   "toc_cell": false,
   "toc_position": {},
   "toc_section_display": true,
   "toc_window_display": false
  }
 },
 "nbformat": 4,
 "nbformat_minor": 2
}
