{
 "cells": [
  {
   "cell_type": "markdown",
   "metadata": {},
   "source": [
    "### Gradient Boosting and XGBoost\n",
    "\n",
    "Gradient boosting is a machine learning technique for regression and classification problems, which produces a prediction model in the form of an ensemble of weak prediction models, typically decision trees. It builds the model in a stage-wise fashion like other boosting methods do, and it generalizes them by allowing optimization of an arbitrary differentiable loss function.\n",
    "XGBoost is an optimized distributed gradient boosting library designed to be highly efficient, flexible and portable. It implements machine learning algorithms under the Gradient Boosting framework."
   ]
  },
  {
   "cell_type": "code",
   "execution_count": 1,
   "metadata": {
    "ExecuteTime": {
     "end_time": "2019-05-21T09:14:09.152221Z",
     "start_time": "2019-05-21T09:14:08.697402Z"
    }
   },
   "outputs": [],
   "source": [
    "%matplotlib inline\n",
    "from pathlib import Path\n",
    "import pandas as pd\n",
    "import matplotlib.pylab as plt\n",
    "import numpy as np\n",
    "import xgboost as xgb\n",
    "from xgboost import XGBClassifier\n",
    "from sklearn.model_selection import train_test_split\n",
    "from sklearn.metrics import accuracy_score, confusion_matrix\n",
    "from sklearn.utils import shuffle\n",
    "from sklearn.preprocessing import MinMaxScaler, StandardScaler\n",
    "from sklearn.utils.multiclass import unique_labels\n",
    "from sklearn.metrics import roc_auc_score, f1_score\n",
    "\n",
    "from sklearn.metrics import roc_auc_score\n",
    "from pylab import rcParams\n",
    "\n",
    "import seaborn as sns"
   ]
  },
  {
   "cell_type": "code",
   "execution_count": 2,
   "metadata": {
    "ExecuteTime": {
     "end_time": "2019-05-21T09:14:09.408725Z",
     "start_time": "2019-05-21T09:14:09.402082Z"
    }
   },
   "outputs": [],
   "source": [
    "rcParams['figure.figsize'] = 13, 8\n",
    "sns.set()"
   ]
  },
  {
   "cell_type": "code",
   "execution_count": 37,
   "metadata": {
    "ExecuteTime": {
     "end_time": "2019-04-19T10:40:57.378457Z",
     "start_time": "2019-04-19T10:40:57.353923Z"
    }
   },
   "outputs": [],
   "source": [
    "def plot_confusion_matrix(y_true,\n",
    "                          y_pred,\n",
    "                          classes,\n",
    "                          normalize=False,\n",
    "                          title=None,\n",
    "                          cmap=plt.cm.Reds):\n",
    "    \"\"\"\n",
    "    This function prints and plots the confusion matrix.\n",
    "    Normalization can be applied by setting `normalize=True`.\n",
    "    \"\"\"\n",
    "    if not title:\n",
    "        if normalize:\n",
    "            title = 'Normalized confusion matrix'\n",
    "        else:\n",
    "            title = 'Confusion matrix, without normalization'\n",
    "\n",
    "    # Compute confusion matrix\n",
    "    cm = confusion_matrix(y_true, y_pred)\n",
    "    # Only use the labels that appear in the data\n",
    "    classes = classes[unique_labels(y_true, y_pred)]\n",
    "    if normalize:\n",
    "        cm = cm.astype('float') / cm.sum(axis=1)[:, np.newaxis]\n",
    "        print(\"Normalized confusion matrix\")\n",
    "    else:\n",
    "        print('Confusion matrix, without normalization')\n",
    "\n",
    "    print(cm)\n",
    "    fig, ax = plt.subplots()\n",
    "    im = ax.imshow(cm, interpolation='nearest', cmap=cmap)\n",
    "    ax.figure.colorbar(im, ax=ax)\n",
    "    # We want to show all ticks...\n",
    "    ax.set(\n",
    "        xticks=np.arange(cm.shape[1]),\n",
    "        yticks=np.arange(cm.shape[0]),\n",
    "        # ... and label them with the respective list entries\n",
    "        xticklabels=classes,\n",
    "        yticklabels=classes,\n",
    "        title=title,\n",
    "        ylabel='True label',\n",
    "        xlabel='Predicted label')\n",
    "\n",
    "    # Rotate the tick labels and set their alignment.\n",
    "    plt.setp(ax.get_xticklabels(),\n",
    "             rotation=45,\n",
    "             ha=\"right\",\n",
    "             rotation_mode=\"anchor\")\n",
    "\n",
    "    # Loop over data dimensions and create text annotations.\n",
    "    fmt = '.2f' if normalize else 'd'\n",
    "    thresh = cm.max() / 2.\n",
    "    for i in range(cm.shape[0]):\n",
    "        for j in range(cm.shape[1]):\n",
    "            ax.text(j,\n",
    "                    i,\n",
    "                    format(cm[i, j], fmt),\n",
    "                    ha=\"center\",\n",
    "                    va=\"center\",\n",
    "                    color=\"white\" if cm[i, j] > thresh else \"black\")\n",
    "    fig.tight_layout()\n",
    "    return ax"
   ]
  },
  {
   "cell_type": "code",
   "execution_count": 38,
   "metadata": {
    "ExecuteTime": {
     "end_time": "2019-04-19T10:40:57.790308Z",
     "start_time": "2019-04-19T10:40:57.786213Z"
    }
   },
   "outputs": [],
   "source": [
    "def evaluate_score(score):\n",
    "    mean = np.mean(score)\n",
    "    std = np.std(score)\n",
    "    print(f\"Average score:{mean}+/-{std}%\")\n",
    "    plt.boxplot(scores)\n",
    "    plt.ylabel(\"Accuracy\")"
   ]
  },
  {
   "cell_type": "markdown",
   "metadata": {},
   "source": [
    "### Problem Formulation\n",
    "For this method we will frame the anomaly detection problem as a supervised learning problem.\n",
    "We have been provided with one dataset of normal data, and three datasets of abnormal data corresponding to different failing substations, so we label our data accordingly.\n",
    "\n",
    "Our dataset is spread over many csv files. We keep only the voltage series, add a label column and concatanate all dataframes into one.\n",
    "So now we have one dataset which rows are sampled sequences and the last column is the label of this sequence. The other columns,or features are the voltage measuremets taken at equal time intervals.\n",
    "Now we can train a classifier to tell apart the normal from the problematic sequences."
   ]
  },
  {
   "cell_type": "code",
   "execution_count": 39,
   "metadata": {
    "ExecuteTime": {
     "end_time": "2019-04-19T10:40:58.706944Z",
     "start_time": "2019-04-19T10:40:58.513073Z"
    }
   },
   "outputs": [],
   "source": [
    "df_normal_list = pd.DataFrame()\n",
    "pathlist = Path(\"/home/aggelos-i3/Downloads/simu Elbas/7h33NO\").glob(\n",
    "    '**/*.xls')\n",
    "for path in pathlist:\n",
    "    # because path is object not string\n",
    "    path_in_str = str(path)\n",
    "    df = pd.read_csv(path_in_str, delimiter='\\t')\n",
    "    df = df[['voltage [V]']][:1000].transpose()\n",
    "    #df = df.set_index(\"loc. (actual) [km]\")\n",
    "    # df.dropna(inplace=True)\n",
    "    # df.sort_index(inplace=True)\n",
    "    if df_normal_list.empty:\n",
    "        df_normal_list = df\n",
    "    else:\n",
    "        df_normal_list = df_normal_list.append(df)\n",
    "    df_normal_list['label'] = np.zeros((len(df_normal_list), 1)).astype(int)"
   ]
  },
  {
   "cell_type": "code",
   "execution_count": 40,
   "metadata": {
    "ExecuteTime": {
     "end_time": "2019-04-19T10:40:59.504173Z",
     "start_time": "2019-04-19T10:40:59.051784Z"
    }
   },
   "outputs": [],
   "source": [
    "df_error = pd.DataFrame()\n",
    "for i in range(1, 4):\n",
    "    df_error_list = pd.DataFrame()\n",
    "    pathlist = Path(f\"/home/aggelos-i3/Downloads/simu Elbas/7h33D{i}\").glob(\n",
    "        '**/*.xls')\n",
    "    for path in pathlist:\n",
    "        # because path is object not string\n",
    "        path_in_str = str(path)\n",
    "        df = pd.read_csv(path_in_str, delimiter='\\t')\n",
    "        df = df[['voltage [V]']][:1000].transpose()\n",
    "        #df = df.set_index(\"loc. (actual) [km]\")\n",
    "        # df.dropna(inplace=True)\n",
    "        if df_error_list.empty:\n",
    "            df_error_list = df\n",
    "        else:\n",
    "            df_error_list = df_error_list.append(df)\n",
    "    df_error_list['label'] = np.full((len(df_error_list), 1), i)\n",
    "    if df_error.empty:\n",
    "        df_error = df_error_list\n",
    "    else:\n",
    "        df_error = df_error.append(df_error_list)"
   ]
  },
  {
   "cell_type": "code",
   "execution_count": 41,
   "metadata": {
    "ExecuteTime": {
     "end_time": "2019-04-19T10:40:59.887717Z",
     "start_time": "2019-04-19T10:40:59.871234Z"
    }
   },
   "outputs": [
    {
     "data": {
      "text/html": [
       "<div>\n",
       "<style scoped>\n",
       "    .dataframe tbody tr th:only-of-type {\n",
       "        vertical-align: middle;\n",
       "    }\n",
       "\n",
       "    .dataframe tbody tr th {\n",
       "        vertical-align: top;\n",
       "    }\n",
       "\n",
       "    .dataframe thead th {\n",
       "        text-align: right;\n",
       "    }\n",
       "</style>\n",
       "<table border=\"1\" class=\"dataframe\">\n",
       "  <thead>\n",
       "    <tr style=\"text-align: right;\">\n",
       "      <th></th>\n",
       "      <th>0</th>\n",
       "      <th>1</th>\n",
       "      <th>2</th>\n",
       "      <th>3</th>\n",
       "      <th>4</th>\n",
       "      <th>5</th>\n",
       "      <th>6</th>\n",
       "      <th>7</th>\n",
       "      <th>8</th>\n",
       "      <th>9</th>\n",
       "      <th>...</th>\n",
       "      <th>991</th>\n",
       "      <th>992</th>\n",
       "      <th>993</th>\n",
       "      <th>994</th>\n",
       "      <th>995</th>\n",
       "      <th>996</th>\n",
       "      <th>997</th>\n",
       "      <th>998</th>\n",
       "      <th>999</th>\n",
       "      <th>label</th>\n",
       "    </tr>\n",
       "  </thead>\n",
       "  <tbody>\n",
       "    <tr>\n",
       "      <th>voltage [V]</th>\n",
       "      <td>786.405701</td>\n",
       "      <td>786.639587</td>\n",
       "      <td>786.379334</td>\n",
       "      <td>784.256592</td>\n",
       "      <td>780.714844</td>\n",
       "      <td>778.763306</td>\n",
       "      <td>782.088318</td>\n",
       "      <td>783.523987</td>\n",
       "      <td>780.188293</td>\n",
       "      <td>777.495178</td>\n",
       "      <td>...</td>\n",
       "      <td>786.784668</td>\n",
       "      <td>768.494263</td>\n",
       "      <td>784.005981</td>\n",
       "      <td>783.392395</td>\n",
       "      <td>789.532166</td>\n",
       "      <td>807.949036</td>\n",
       "      <td>814.559753</td>\n",
       "      <td>800.102783</td>\n",
       "      <td>796.938782</td>\n",
       "      <td>0</td>\n",
       "    </tr>\n",
       "    <tr>\n",
       "      <th>voltage [V]</th>\n",
       "      <td>779.298523</td>\n",
       "      <td>784.582092</td>\n",
       "      <td>784.545837</td>\n",
       "      <td>786.837707</td>\n",
       "      <td>786.543274</td>\n",
       "      <td>798.836426</td>\n",
       "      <td>790.527100</td>\n",
       "      <td>789.838745</td>\n",
       "      <td>789.973694</td>\n",
       "      <td>799.427368</td>\n",
       "      <td>...</td>\n",
       "      <td>811.612183</td>\n",
       "      <td>791.882263</td>\n",
       "      <td>789.414612</td>\n",
       "      <td>788.484009</td>\n",
       "      <td>789.817444</td>\n",
       "      <td>787.505310</td>\n",
       "      <td>786.985413</td>\n",
       "      <td>786.065735</td>\n",
       "      <td>785.140198</td>\n",
       "      <td>0</td>\n",
       "    </tr>\n",
       "    <tr>\n",
       "      <th>voltage [V]</th>\n",
       "      <td>787.283691</td>\n",
       "      <td>787.139526</td>\n",
       "      <td>787.761169</td>\n",
       "      <td>785.451965</td>\n",
       "      <td>781.759216</td>\n",
       "      <td>780.349670</td>\n",
       "      <td>782.838196</td>\n",
       "      <td>784.542236</td>\n",
       "      <td>781.135864</td>\n",
       "      <td>777.579956</td>\n",
       "      <td>...</td>\n",
       "      <td>784.960266</td>\n",
       "      <td>771.365295</td>\n",
       "      <td>784.200134</td>\n",
       "      <td>784.396606</td>\n",
       "      <td>787.995178</td>\n",
       "      <td>789.061951</td>\n",
       "      <td>793.676819</td>\n",
       "      <td>790.727234</td>\n",
       "      <td>789.559631</td>\n",
       "      <td>0</td>\n",
       "    </tr>\n",
       "    <tr>\n",
       "      <th>voltage [V]</th>\n",
       "      <td>787.833374</td>\n",
       "      <td>785.052185</td>\n",
       "      <td>783.197754</td>\n",
       "      <td>782.131409</td>\n",
       "      <td>782.864990</td>\n",
       "      <td>785.359985</td>\n",
       "      <td>784.958130</td>\n",
       "      <td>784.552978</td>\n",
       "      <td>784.945129</td>\n",
       "      <td>785.139221</td>\n",
       "      <td>...</td>\n",
       "      <td>802.239014</td>\n",
       "      <td>791.855164</td>\n",
       "      <td>792.489319</td>\n",
       "      <td>788.695557</td>\n",
       "      <td>786.465271</td>\n",
       "      <td>780.335022</td>\n",
       "      <td>782.420410</td>\n",
       "      <td>784.481934</td>\n",
       "      <td>786.711731</td>\n",
       "      <td>0</td>\n",
       "    </tr>\n",
       "    <tr>\n",
       "      <th>voltage [V]</th>\n",
       "      <td>784.085999</td>\n",
       "      <td>780.306274</td>\n",
       "      <td>779.111633</td>\n",
       "      <td>781.541016</td>\n",
       "      <td>781.815063</td>\n",
       "      <td>781.669922</td>\n",
       "      <td>777.798889</td>\n",
       "      <td>785.667725</td>\n",
       "      <td>787.680664</td>\n",
       "      <td>812.313232</td>\n",
       "      <td>...</td>\n",
       "      <td>845.801819</td>\n",
       "      <td>833.462219</td>\n",
       "      <td>800.511536</td>\n",
       "      <td>798.087158</td>\n",
       "      <td>791.580994</td>\n",
       "      <td>787.848816</td>\n",
       "      <td>787.086548</td>\n",
       "      <td>785.023132</td>\n",
       "      <td>782.941528</td>\n",
       "      <td>0</td>\n",
       "    </tr>\n",
       "  </tbody>\n",
       "</table>\n",
       "<p>5 rows × 1001 columns</p>\n",
       "</div>"
      ],
      "text/plain": [
       "                      0           1           2           3           4  \\\n",
       "voltage [V]  786.405701  786.639587  786.379334  784.256592  780.714844   \n",
       "voltage [V]  779.298523  784.582092  784.545837  786.837707  786.543274   \n",
       "voltage [V]  787.283691  787.139526  787.761169  785.451965  781.759216   \n",
       "voltage [V]  787.833374  785.052185  783.197754  782.131409  782.864990   \n",
       "voltage [V]  784.085999  780.306274  779.111633  781.541016  781.815063   \n",
       "\n",
       "                      5           6           7           8           9  ...  \\\n",
       "voltage [V]  778.763306  782.088318  783.523987  780.188293  777.495178  ...   \n",
       "voltage [V]  798.836426  790.527100  789.838745  789.973694  799.427368  ...   \n",
       "voltage [V]  780.349670  782.838196  784.542236  781.135864  777.579956  ...   \n",
       "voltage [V]  785.359985  784.958130  784.552978  784.945129  785.139221  ...   \n",
       "voltage [V]  781.669922  777.798889  785.667725  787.680664  812.313232  ...   \n",
       "\n",
       "                    991         992         993         994         995  \\\n",
       "voltage [V]  786.784668  768.494263  784.005981  783.392395  789.532166   \n",
       "voltage [V]  811.612183  791.882263  789.414612  788.484009  789.817444   \n",
       "voltage [V]  784.960266  771.365295  784.200134  784.396606  787.995178   \n",
       "voltage [V]  802.239014  791.855164  792.489319  788.695557  786.465271   \n",
       "voltage [V]  845.801819  833.462219  800.511536  798.087158  791.580994   \n",
       "\n",
       "                    996         997         998         999  label  \n",
       "voltage [V]  807.949036  814.559753  800.102783  796.938782      0  \n",
       "voltage [V]  787.505310  786.985413  786.065735  785.140198      0  \n",
       "voltage [V]  789.061951  793.676819  790.727234  789.559631      0  \n",
       "voltage [V]  780.335022  782.420410  784.481934  786.711731      0  \n",
       "voltage [V]  787.848816  787.086548  785.023132  782.941528      0  \n",
       "\n",
       "[5 rows x 1001 columns]"
      ]
     },
     "execution_count": 41,
     "metadata": {},
     "output_type": "execute_result"
    }
   ],
   "source": [
    "dataset = pd.concat([df_normal_list, df_error], axis=0)\n",
    "dataset.head()"
   ]
  },
  {
   "cell_type": "code",
   "execution_count": 42,
   "metadata": {
    "ExecuteTime": {
     "end_time": "2019-04-19T10:41:02.105285Z",
     "start_time": "2019-04-19T10:41:02.098613Z"
    }
   },
   "outputs": [],
   "source": [
    "# we shuffle our dataset\n",
    "class_names = np.array(['Normal', 'D1 Error', 'D2 error', 'D3 error'])\n",
    "\n",
    "dataset = shuffle(dataset)\n",
    "dataset.dropna(inplace=True)\n",
    "#dataset.describe()"
   ]
  },
  {
   "cell_type": "markdown",
   "metadata": {},
   "source": [
    "We will use kfold cross validation to optimize the number of estimators our algorithm is using."
   ]
  },
  {
   "cell_type": "code",
   "execution_count": 52,
   "metadata": {
    "ExecuteTime": {
     "end_time": "2019-04-19T11:08:15.073472Z",
     "start_time": "2019-04-19T11:08:08.309069Z"
    }
   },
   "outputs": [
    {
     "name": "stdout",
     "output_type": "stream",
     "text": [
      "   train-mlogloss-mean  train-mlogloss-std  test-mlogloss-mean  \\\n",
      "0             0.948132            0.005641            1.117152   \n",
      "1             0.682062            0.005156            0.936179   \n",
      "2             0.504141            0.004608            0.819749   \n",
      "3             0.381874            0.004137            0.732228   \n",
      "4             0.293869            0.004243            0.669964   \n",
      "\n",
      "   test-mlogloss-std  \n",
      "0           0.084682  \n",
      "1           0.130132  \n",
      "2           0.150314  \n",
      "3           0.163259  \n",
      "4           0.173462  \n"
     ]
    }
   ],
   "source": [
    "scaler = StandardScaler()\n",
    "X, y = dataset.iloc[:, :-1].values, dataset.iloc[:, -1].values\n",
    "X = scaler.fit_transform(X)\n",
    "\n",
    "X_train, X_test, y_train, y_test = train_test_split(X, y)\n",
    "\n",
    "dtrain = xgb.DMatrix(X_train, label=y_train)\n",
    "dtest = xgb.DMatrix(X_test, label=y_test)\n",
    "dcvset = xgb.DMatrix(X, y)\n",
    "param = {\n",
    "    'max_depth': 3,  # the maximum depth of each tree\n",
    "    'eta': 0.3,  # the training step for each iteration\n",
    "    'silent': 1,  # logging mode - quiet\n",
    "    'objective': 'multi:softprob',  # error evaluation for multiclass training\n",
    "    'num_class': 4\n",
    "}  # the number of classes that exist in this datset\n",
    "num_round = 20  # the number of training iterations\n",
    "\n",
    "model = xgb.XGBClassifier(objective='multi:softprob')\n",
    "\n",
    "# do cross validation\n",
    "#print('Start cross validation')\n",
    "cvresult = xgb.cv(param,\n",
    "                  dcvset,\n",
    "                  num_boost_round=5000,\n",
    "                  nfold=15,\n",
    "                  metrics=['mlogloss'],\n",
    "                  early_stopping_rounds=50,\n",
    "                  stratified=True,\n",
    "                  as_pandas=True,\n",
    "                  seed=1301)\n",
    "print(cvresult.head())"
   ]
  },
  {
   "cell_type": "code",
   "execution_count": 61,
   "metadata": {
    "ExecuteTime": {
     "end_time": "2019-04-19T11:18:56.198594Z",
     "start_time": "2019-04-19T11:18:56.003401Z"
    }
   },
   "outputs": [
    {
     "data": {
      "text/plain": [
       "Text(0, 0.5, 'Log Loss')"
      ]
     },
     "execution_count": 61,
     "metadata": {},
     "output_type": "execute_result"
    },
    {
     "data": {
      "image/png": "[encoded data removed]",
      "text/plain": [
       "<Figure size 936x576 with 1 Axes>"
      ]
     },
     "metadata": {},
     "output_type": "display_data"
    }
   ],
   "source": [
    "plt.plot(cvresult['test-mlogloss-mean'], label='Test Error')\n",
    "plt.plot(cvresult['train-mlogloss-mean'], label='Train Error')\n",
    "plt.legend(loc='best')\n",
    "plt.xlabel(\"Number of estimators\")\n",
    "plt.ylabel(\"Log Loss\")"
   ]
  },
  {
   "cell_type": "code",
   "execution_count": 44,
   "metadata": {
    "ExecuteTime": {
     "end_time": "2019-04-19T10:41:09.790840Z",
     "start_time": "2019-04-19T10:41:09.787561Z"
    }
   },
   "outputs": [
    {
     "data": {
      "text/plain": [
       "XGBClassifier(base_score=0.5, booster='gbtree', colsample_bylevel=1,\n",
       "       colsample_bytree=1, gamma=0, learning_rate=0.1, max_delta_step=0,\n",
       "       max_depth=3, min_child_weight=1, missing=None, n_estimators=30,\n",
       "       n_jobs=1, nthread=None, objective='multi:softprob', random_state=0,\n",
       "       reg_alpha=0, reg_lambda=1, scale_pos_weight=1, seed=None,\n",
       "       silent=True, subsample=1)"
      ]
     },
     "execution_count": 44,
     "metadata": {},
     "output_type": "execute_result"
    }
   ],
   "source": [
    "model.set_params(n_estimators=cvresult.shape[0])"
   ]
  },
  {
   "cell_type": "code",
   "execution_count": 45,
   "metadata": {
    "ExecuteTime": {
     "end_time": "2019-04-19T10:41:10.082680Z",
     "start_time": "2019-04-19T10:41:10.080370Z"
    }
   },
   "outputs": [
    {
     "name": "stdout",
     "output_type": "stream",
     "text": [
      "Best number of trees = 30\n"
     ]
    }
   ],
   "source": [
    "print('Best number of trees = {}'.format(cvresult.shape[0]))"
   ]
  },
  {
   "cell_type": "markdown",
   "metadata": {},
   "source": [
    "We split our data in a train and a test set to perform an example:"
   ]
  },
  {
   "cell_type": "code",
   "execution_count": 46,
   "metadata": {
    "ExecuteTime": {
     "end_time": "2019-04-19T10:41:10.744271Z",
     "start_time": "2019-04-19T10:41:10.373500Z"
    }
   },
   "outputs": [
    {
     "name": "stdout",
     "output_type": "stream",
     "text": [
      "Example prediction\n",
      "Fit on the training data\n",
      "Predict the probabilities based on features in the test set\n",
      "Example Predictions:  [0 2 1 2 1 0 1 0 3 3 3 2 0 3 1 3 0 1 1 0]\n",
      "True Labels:          [3 3 1 2 1 0 1 3 3 3 3 2 0 3 2 3 0 2 1 0]\n",
      "Accuracy:  75.0 %\n"
     ]
    }
   ],
   "source": [
    "print(\"Example prediction\")\n",
    "print('Fit on the training data')\n",
    "model.fit(X_train, y_train)\n",
    "print('Predict the probabilities based on features in the test set')\n",
    "pred = model.predict(X_test, ntree_limit=cvresult.shape[0])\n",
    "print(\"Example Predictions: \", pred)\n",
    "print(\"True Labels:         \", y_test)\n",
    "print(\"Accuracy: \", accuracy_score(pred, y_test) * 100, \"%\")"
   ]
  },
  {
   "cell_type": "markdown",
   "metadata": {},
   "source": [
    "We can visualize the importance of each feature for our trained model.\n",
    "We see that the most important features for the model, which are the ones most responsible for the prediction, are the near the substations."
   ]
  },
  {
   "cell_type": "code",
   "execution_count": 47,
   "metadata": {
    "ExecuteTime": {
     "end_time": "2019-04-19T10:41:11.265341Z",
     "start_time": "2019-04-19T10:41:11.034378Z"
    }
   },
   "outputs": [
    {
     "data": {
      "text/plain": [
       "<matplotlib.legend.Legend at 0x7f49b68e5320>"
      ]
     },
     "execution_count": 47,
     "metadata": {},
     "output_type": "execute_result"
    },
    {
     "data": {
      "image/png": "[encoded data removed]",
      "text/plain": [
       "<Figure size 936x576 with 1 Axes>"
      ]
     },
     "metadata": {},
     "output_type": "display_data"
    }
   ],
   "source": [
    "plt.plot(np.arange(len(model.feature_importances_)),\n",
    "         model.feature_importances_,\n",
    "         label='Feature Importance')\n",
    "plt.legend(loc='best')"
   ]
  },
  {
   "cell_type": "markdown",
   "metadata": {},
   "source": [
    "In order to measure the perfomance of our model more reliably we perform a stratified kfold cross validation over 15 folds.\n",
    "Below we present our results in a boxplot demonstrating the accuracy of our algorithm and a confusion matrix to better interpretate those results."
   ]
  },
  {
   "cell_type": "code",
   "execution_count": 48,
   "metadata": {
    "ExecuteTime": {
     "end_time": "2019-04-19T10:41:25.590778Z",
     "start_time": "2019-04-19T10:41:23.481930Z"
    }
   },
   "outputs": [
    {
     "name": "stdout",
     "output_type": "stream",
     "text": [
      "Average score:0.9416666666666667+/-0.08975274678557507%\n"
     ]
    },
    {
     "data": {
      "image/png": "[encoded data removed]",
      "text/plain": [
       "<Figure size 936x576 with 1 Axes>"
      ]
     },
     "metadata": {},
     "output_type": "display_data"
    }
   ],
   "source": [
    "# Kfold\n",
    "from sklearn.model_selection import KFold, StratifiedKFold\n",
    "from sklearn.model_selection import cross_val_score\n",
    "\n",
    "kf = StratifiedKFold(n_splits=15)\n",
    "scores = cross_val_score(model, X, y, cv=kf, n_jobs=-1)\n",
    "evaluate_score(scores)"
   ]
  },
  {
   "cell_type": "code",
   "execution_count": 49,
   "metadata": {
    "ExecuteTime": {
     "end_time": "2019-04-19T10:41:30.026775Z",
     "start_time": "2019-04-19T10:41:25.889444Z"
    },
    "cell_style": "split"
   },
   "outputs": [],
   "source": [
    "from sklearn.model_selection import cross_val_predict\n",
    "\n",
    "y_pred = cross_val_predict(model, X, y, cv=10)\n",
    "#conf_mat = confusion_matrix(y, y_pred)"
   ]
  },
  {
   "cell_type": "code",
   "execution_count": 50,
   "metadata": {
    "ExecuteTime": {
     "end_time": "2019-04-19T10:41:30.601699Z",
     "start_time": "2019-04-19T10:41:30.320723Z"
    },
    "cell_style": "split"
   },
   "outputs": [
    {
     "name": "stdout",
     "output_type": "stream",
     "text": [
      "Normalized confusion matrix\n",
      "[[0.85 0.   0.   0.15]\n",
      " [0.   0.9  0.1  0.  ]\n",
      " [0.   0.1  0.85 0.05]\n",
      " [0.05 0.   0.05 0.9 ]]\n"
     ]
    },
    {
     "data": {
      "text/plain": [
       "<matplotlib.axes._subplots.AxesSubplot at 0x7f49b5ea6320>"
      ]
     },
     "execution_count": 50,
     "metadata": {},
     "output_type": "execute_result"
    },
    {
     "data": {
      "image/png": "[encoded data removed]",
      "text/plain": [
       "<Figure size 936x576 with 2 Axes>"
      ]
     },
     "metadata": {},
     "output_type": "display_data"
    }
   ],
   "source": [
    "plot_confusion_matrix(y,\n",
    "                      y_pred,\n",
    "                      classes=class_names,\n",
    "                      normalize=True,\n",
    "                      title='Normalized confusion matrix')"
   ]
  },
  {
   "cell_type": "code",
   "execution_count": 51,
   "metadata": {
    "ExecuteTime": {
     "end_time": "2019-04-19T10:41:31.175376Z",
     "start_time": "2019-04-19T10:41:30.901896Z"
    },
    "cell_style": "split"
   },
   "outputs": [
    {
     "name": "stdout",
     "output_type": "stream",
     "text": [
      "Confusion matrix, without normalization\n",
      "[[17  0  0  3]\n",
      " [ 0 18  2  0]\n",
      " [ 0  2 17  1]\n",
      " [ 1  0  1 18]]\n"
     ]
    },
    {
     "data": {
      "text/plain": [
       "<matplotlib.axes._subplots.AxesSubplot at 0x7f49b5e1bfd0>"
      ]
     },
     "execution_count": 51,
     "metadata": {},
     "output_type": "execute_result"
    },
    {
     "data": {
      "image/png": "[encoded data removed]",
      "text/plain": [
       "<Figure size 936x576 with 2 Axes>"
      ]
     },
     "metadata": {},
     "output_type": "display_data"
    }
   ],
   "source": [
    "plot_confusion_matrix(y,\n",
    "                      y_pred,\n",
    "                      classes=class_names,\n",
    "                      normalize=False,\n",
    "                      title='Confusion matrix')"
   ]
  },
  {
   "cell_type": "code",
   "execution_count": null,
   "metadata": {},
   "outputs": [],
   "source": []
  }
 ],
 "metadata": {
  "hide_input": false,
  "kernelspec": {
   "display_name": "Python 3",
   "language": "python",
   "name": "python3"
  },
  "language_info": {
   "codemirror_mode": {
    "name": "ipython",
    "version": 3
   },
   "file_extension": ".py",
   "mimetype": "text/x-python",
   "name": "python",
   "nbconvert_exporter": "python",
   "pygments_lexer": "ipython3",
   "version": "3.6.5"
  },
  "toc": {
   "base_numbering": 1,
   "nav_menu": {},
   "number_sections": true,
   "sideBar": true,
   "skip_h1_title": false,
   "title_cell": "Table of Contents",
   "title_sidebar": "Contents",
   "toc_cell": false,
   "toc_position": {},
   "toc_section_display": true,
   "toc_window_display": false
  },
  "varInspector": {
   "cols": {
    "lenName": 16,
    "lenType": 16,
    "lenVar": 40
   },
   "kernels_config": {
    "python": {
     "delete_cmd_postfix": "",
     "delete_cmd_prefix": "del ",
     "library": "var_list.py",
     "varRefreshCmd": "print(var_dic_list())"
    },
    "r": {
     "delete_cmd_postfix": ") ",
     "delete_cmd_prefix": "rm(",
     "library": "var_list.r",
     "varRefreshCmd": "cat(var_dic_list()) "
    }
   },
   "types_to_exclude": [
    "module",
    "function",
    "builtin_function_or_method",
    "instance",
    "_Feature"
   ],
   "window_display": false
  }
 },
 "nbformat": 4,
 "nbformat_minor": 2
}
