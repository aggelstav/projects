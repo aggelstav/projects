{
 "cells": [
  {
   "cell_type": "code",
   "execution_count": 1,
   "metadata": {
    "ExecuteTime": {
     "end_time": "2019-04-18T10:42:59.449637Z",
     "start_time": "2019-04-18T10:42:58.854803Z"
    }
   },
   "outputs": [],
   "source": [
    "from pathlib import Path\n",
    "import pandas as pd\n",
    "import matplotlib.pylab as plt\n",
    "import numpy as np\n",
    "import xgboost as xgb\n",
    "from xgboost import XGBClassifier\n",
    "from sklearn.model_selection import train_test_split\n",
    "from sklearn.metrics import accuracy_score, confusion_matrix\n",
    "from sklearn.utils import shuffle\n",
    "from sklearn.preprocessing import MinMaxScaler, StandardScaler\n",
    "from sklearn.utils.multiclass import unique_labels\n",
    "from sklearn.metrics import roc_auc_score, f1_score\n",
    "\n",
    "from sklearn.metrics import roc_auc_score\n",
    "from pylab import rcParams\n",
    "\n",
    "import seaborn as sns"
   ]
  },
  {
   "cell_type": "code",
   "execution_count": 2,
   "metadata": {
    "ExecuteTime": {
     "end_time": "2019-04-18T10:43:06.977232Z",
     "start_time": "2019-04-18T10:43:06.974154Z"
    }
   },
   "outputs": [],
   "source": [
    "rcParams['figure.figsize'] = 11, 10\n",
    "sns.set()"
   ]
  },
  {
   "cell_type": "code",
   "execution_count": 3,
   "metadata": {
    "ExecuteTime": {
     "end_time": "2019-04-18T10:43:10.775362Z",
     "start_time": "2019-04-18T10:43:10.768280Z"
    }
   },
   "outputs": [],
   "source": [
    "def plot_confusion_matrix(y_true,\n",
    "                          y_pred,\n",
    "                          classes,\n",
    "                          normalize=False,\n",
    "                          title=None,\n",
    "                          cmap=plt.cm.Blues):\n",
    "    \"\"\"\n",
    "    This function prints and plots the confusion matrix.\n",
    "    Normalization can be applied by setting `normalize=True`.\n",
    "    \"\"\"\n",
    "    if not title:\n",
    "        if normalize:\n",
    "            title = 'Normalized confusion matrix'\n",
    "        else:\n",
    "            title = 'Confusion matrix, without normalization'\n",
    "\n",
    "    # Compute confusion matrix\n",
    "    cm = confusion_matrix(y_true, y_pred)\n",
    "    # Only use the labels that appear in the data\n",
    "    classes = classes[unique_labels(y_true, y_pred)]\n",
    "    if normalize:\n",
    "        cm = cm.astype('float') / cm.sum(axis=1)[:, np.newaxis]\n",
    "        print(\"Normalized confusion matrix\")\n",
    "    else:\n",
    "        print('Confusion matrix, without normalization')\n",
    "\n",
    "    print(cm)\n",
    "    fig, ax = plt.subplots()\n",
    "    im = ax.imshow(cm, interpolation='nearest', cmap=cmap)\n",
    "    ax.figure.colorbar(im, ax=ax)\n",
    "    # We want to show all ticks...\n",
    "    ax.set(\n",
    "        xticks=np.arange(cm.shape[1]),\n",
    "        yticks=np.arange(cm.shape[0]),\n",
    "        # ... and label them with the respective list entries\n",
    "        xticklabels=classes,\n",
    "        yticklabels=classes,\n",
    "        title=title,\n",
    "        ylabel='True label',\n",
    "        xlabel='Predicted label')\n",
    "\n",
    "    # Rotate the tick labels and set their alignment.\n",
    "    plt.setp(ax.get_xticklabels(),\n",
    "             rotation=45,\n",
    "             ha=\"right\",\n",
    "             rotation_mode=\"anchor\")\n",
    "\n",
    "    # Loop over data dimensions and create text annotations.\n",
    "    fmt = '.2f' if normalize else 'd'\n",
    "    thresh = cm.max() / 2.\n",
    "    for i in range(cm.shape[0]):\n",
    "        for j in range(cm.shape[1]):\n",
    "            ax.text(j,\n",
    "                    i,\n",
    "                    format(cm[i, j], fmt),\n",
    "                    ha=\"center\",\n",
    "                    va=\"center\",\n",
    "                    color=\"white\" if cm[i, j] > thresh else \"black\")\n",
    "    fig.tight_layout()\n",
    "    return ax"
   ]
  },
  {
   "cell_type": "code",
   "execution_count": 4,
   "metadata": {
    "ExecuteTime": {
     "end_time": "2019-04-18T10:43:11.680919Z",
     "start_time": "2019-04-18T10:43:11.678436Z"
    }
   },
   "outputs": [],
   "source": [
    "def evaluate_score(score):\n",
    "    mean = np.mean(score)\n",
    "    std = np.std(score)\n",
    "    print(f\"Average score:{mean}+/-{std}%\")\n",
    "    plt.boxplot(scores)"
   ]
  },
  {
   "cell_type": "markdown",
   "metadata": {},
   "source": [
    "We define two labels for our datasets ,1 for normal and 2 for problematic scenarios. "
   ]
  },
  {
   "cell_type": "markdown",
   "metadata": {},
   "source": [
    "Our dataset is spread over many csv files. We keep only the voltage series, add a label column and concatanate all dataframes into one.\n",
    "So now we have one dataset which rows are sampled sequences and the last column is the label (1 or 0) of this sequence.\n",
    "Now we can train a classifier to tell apart the normal from the problematic sequences."
   ]
  },
  {
   "cell_type": "code",
   "execution_count": 5,
   "metadata": {
    "ExecuteTime": {
     "end_time": "2019-04-18T10:43:13.076593Z",
     "start_time": "2019-04-18T10:43:12.886405Z"
    }
   },
   "outputs": [],
   "source": [
    "df_normal_list = pd.DataFrame()\n",
    "pathlist = Path(\"/home/aggelos-i3/Downloads/simu Elbas/7h33NO\").glob(\n",
    "    '**/*.xls')\n",
    "for path in pathlist:\n",
    "    # because path is object not string\n",
    "    path_in_str = str(path)\n",
    "    df = pd.read_csv(path_in_str, delimiter='\\t')\n",
    "    df = df[['voltage [V]']][:1000].transpose()\n",
    "    #df = df.set_index(\"loc. (actual) [km]\")\n",
    "    # df.dropna(inplace=True)\n",
    "    # df.sort_index(inplace=True)\n",
    "    if df_normal_list.empty:\n",
    "        df_normal_list = df\n",
    "    else:\n",
    "        df_normal_list = df_normal_list.append(df)\n",
    "    df_normal_list['label'] = np.zeros((len(df_normal_list), 1)).astype(int)"
   ]
  },
  {
   "cell_type": "code",
   "execution_count": 6,
   "metadata": {
    "ExecuteTime": {
     "end_time": "2019-04-18T10:43:18.668576Z",
     "start_time": "2019-04-18T10:43:18.218374Z"
    }
   },
   "outputs": [],
   "source": [
    "df_error = pd.DataFrame()\n",
    "for i in range(1, 4):\n",
    "    df_error_list = pd.DataFrame()\n",
    "    pathlist = Path(f\"/home/aggelos-i3/Downloads/simu Elbas/7h33D{i}\").glob(\n",
    "        '**/*.xls')\n",
    "    for path in pathlist:\n",
    "        # because path is object not string\n",
    "        path_in_str = str(path)\n",
    "        df = pd.read_csv(path_in_str, delimiter='\\t')\n",
    "        df = df[['voltage [V]']][:1000].transpose()\n",
    "        #df = df.set_index(\"loc. (actual) [km]\")\n",
    "        # df.dropna(inplace=True)\n",
    "        if df_error_list.empty:\n",
    "            df_error_list = df\n",
    "        else:\n",
    "            df_error_list = df_error_list.append(df)\n",
    "    df_error_list['label'] = np.full((len(df_error_list), 1), i)\n",
    "    if df_error.empty:\n",
    "        df_error = df_error_list\n",
    "    else:\n",
    "        df_error = df_error.append(df_error_list)"
   ]
  },
  {
   "cell_type": "code",
   "execution_count": 7,
   "metadata": {
    "ExecuteTime": {
     "end_time": "2019-04-18T10:43:19.585268Z",
     "start_time": "2019-04-18T10:43:19.567025Z"
    }
   },
   "outputs": [
    {
     "data": {
      "text/html": [
       "<div>\n",
       "<style scoped>\n",
       "    .dataframe tbody tr th:only-of-type {\n",
       "        vertical-align: middle;\n",
       "    }\n",
       "\n",
       "    .dataframe tbody tr th {\n",
       "        vertical-align: top;\n",
       "    }\n",
       "\n",
       "    .dataframe thead th {\n",
       "        text-align: right;\n",
       "    }\n",
       "</style>\n",
       "<table border=\"1\" class=\"dataframe\">\n",
       "  <thead>\n",
       "    <tr style=\"text-align: right;\">\n",
       "      <th></th>\n",
       "      <th>0</th>\n",
       "      <th>1</th>\n",
       "      <th>2</th>\n",
       "      <th>3</th>\n",
       "      <th>4</th>\n",
       "      <th>5</th>\n",
       "      <th>6</th>\n",
       "      <th>7</th>\n",
       "      <th>8</th>\n",
       "      <th>9</th>\n",
       "      <th>...</th>\n",
       "      <th>991</th>\n",
       "      <th>992</th>\n",
       "      <th>993</th>\n",
       "      <th>994</th>\n",
       "      <th>995</th>\n",
       "      <th>996</th>\n",
       "      <th>997</th>\n",
       "      <th>998</th>\n",
       "      <th>999</th>\n",
       "      <th>label</th>\n",
       "    </tr>\n",
       "  </thead>\n",
       "  <tbody>\n",
       "    <tr>\n",
       "      <th>voltage [V]</th>\n",
       "      <td>786.405701</td>\n",
       "      <td>786.639587</td>\n",
       "      <td>786.379334</td>\n",
       "      <td>784.256592</td>\n",
       "      <td>780.714844</td>\n",
       "      <td>778.763306</td>\n",
       "      <td>782.088318</td>\n",
       "      <td>783.523987</td>\n",
       "      <td>780.188293</td>\n",
       "      <td>777.495178</td>\n",
       "      <td>...</td>\n",
       "      <td>786.784668</td>\n",
       "      <td>768.494263</td>\n",
       "      <td>784.005981</td>\n",
       "      <td>783.392395</td>\n",
       "      <td>789.532166</td>\n",
       "      <td>807.949036</td>\n",
       "      <td>814.559753</td>\n",
       "      <td>800.102783</td>\n",
       "      <td>796.938782</td>\n",
       "      <td>0</td>\n",
       "    </tr>\n",
       "    <tr>\n",
       "      <th>voltage [V]</th>\n",
       "      <td>779.298523</td>\n",
       "      <td>784.582092</td>\n",
       "      <td>784.545837</td>\n",
       "      <td>786.837707</td>\n",
       "      <td>786.543274</td>\n",
       "      <td>798.836426</td>\n",
       "      <td>790.527100</td>\n",
       "      <td>789.838745</td>\n",
       "      <td>789.973694</td>\n",
       "      <td>799.427368</td>\n",
       "      <td>...</td>\n",
       "      <td>811.612183</td>\n",
       "      <td>791.882263</td>\n",
       "      <td>789.414612</td>\n",
       "      <td>788.484009</td>\n",
       "      <td>789.817444</td>\n",
       "      <td>787.505310</td>\n",
       "      <td>786.985413</td>\n",
       "      <td>786.065735</td>\n",
       "      <td>785.140198</td>\n",
       "      <td>0</td>\n",
       "    </tr>\n",
       "    <tr>\n",
       "      <th>voltage [V]</th>\n",
       "      <td>787.283691</td>\n",
       "      <td>787.139526</td>\n",
       "      <td>787.761169</td>\n",
       "      <td>785.451965</td>\n",
       "      <td>781.759216</td>\n",
       "      <td>780.349670</td>\n",
       "      <td>782.838196</td>\n",
       "      <td>784.542236</td>\n",
       "      <td>781.135864</td>\n",
       "      <td>777.579956</td>\n",
       "      <td>...</td>\n",
       "      <td>784.960266</td>\n",
       "      <td>771.365295</td>\n",
       "      <td>784.200134</td>\n",
       "      <td>784.396606</td>\n",
       "      <td>787.995178</td>\n",
       "      <td>789.061951</td>\n",
       "      <td>793.676819</td>\n",
       "      <td>790.727234</td>\n",
       "      <td>789.559631</td>\n",
       "      <td>0</td>\n",
       "    </tr>\n",
       "    <tr>\n",
       "      <th>voltage [V]</th>\n",
       "      <td>787.833374</td>\n",
       "      <td>785.052185</td>\n",
       "      <td>783.197754</td>\n",
       "      <td>782.131409</td>\n",
       "      <td>782.864990</td>\n",
       "      <td>785.359985</td>\n",
       "      <td>784.958130</td>\n",
       "      <td>784.552978</td>\n",
       "      <td>784.945129</td>\n",
       "      <td>785.139221</td>\n",
       "      <td>...</td>\n",
       "      <td>802.239014</td>\n",
       "      <td>791.855164</td>\n",
       "      <td>792.489319</td>\n",
       "      <td>788.695557</td>\n",
       "      <td>786.465271</td>\n",
       "      <td>780.335022</td>\n",
       "      <td>782.420410</td>\n",
       "      <td>784.481934</td>\n",
       "      <td>786.711731</td>\n",
       "      <td>0</td>\n",
       "    </tr>\n",
       "    <tr>\n",
       "      <th>voltage [V]</th>\n",
       "      <td>784.085999</td>\n",
       "      <td>780.306274</td>\n",
       "      <td>779.111633</td>\n",
       "      <td>781.541016</td>\n",
       "      <td>781.815063</td>\n",
       "      <td>781.669922</td>\n",
       "      <td>777.798889</td>\n",
       "      <td>785.667725</td>\n",
       "      <td>787.680664</td>\n",
       "      <td>812.313232</td>\n",
       "      <td>...</td>\n",
       "      <td>845.801819</td>\n",
       "      <td>833.462219</td>\n",
       "      <td>800.511536</td>\n",
       "      <td>798.087158</td>\n",
       "      <td>791.580994</td>\n",
       "      <td>787.848816</td>\n",
       "      <td>787.086548</td>\n",
       "      <td>785.023132</td>\n",
       "      <td>782.941528</td>\n",
       "      <td>0</td>\n",
       "    </tr>\n",
       "  </tbody>\n",
       "</table>\n",
       "<p>5 rows × 1001 columns</p>\n",
       "</div>"
      ],
      "text/plain": [
       "                      0           1           2           3           4  \\\n",
       "voltage [V]  786.405701  786.639587  786.379334  784.256592  780.714844   \n",
       "voltage [V]  779.298523  784.582092  784.545837  786.837707  786.543274   \n",
       "voltage [V]  787.283691  787.139526  787.761169  785.451965  781.759216   \n",
       "voltage [V]  787.833374  785.052185  783.197754  782.131409  782.864990   \n",
       "voltage [V]  784.085999  780.306274  779.111633  781.541016  781.815063   \n",
       "\n",
       "                      5           6           7           8           9  ...  \\\n",
       "voltage [V]  778.763306  782.088318  783.523987  780.188293  777.495178  ...   \n",
       "voltage [V]  798.836426  790.527100  789.838745  789.973694  799.427368  ...   \n",
       "voltage [V]  780.349670  782.838196  784.542236  781.135864  777.579956  ...   \n",
       "voltage [V]  785.359985  784.958130  784.552978  784.945129  785.139221  ...   \n",
       "voltage [V]  781.669922  777.798889  785.667725  787.680664  812.313232  ...   \n",
       "\n",
       "                    991         992         993         994         995  \\\n",
       "voltage [V]  786.784668  768.494263  784.005981  783.392395  789.532166   \n",
       "voltage [V]  811.612183  791.882263  789.414612  788.484009  789.817444   \n",
       "voltage [V]  784.960266  771.365295  784.200134  784.396606  787.995178   \n",
       "voltage [V]  802.239014  791.855164  792.489319  788.695557  786.465271   \n",
       "voltage [V]  845.801819  833.462219  800.511536  798.087158  791.580994   \n",
       "\n",
       "                    996         997         998         999  label  \n",
       "voltage [V]  807.949036  814.559753  800.102783  796.938782      0  \n",
       "voltage [V]  787.505310  786.985413  786.065735  785.140198      0  \n",
       "voltage [V]  789.061951  793.676819  790.727234  789.559631      0  \n",
       "voltage [V]  780.335022  782.420410  784.481934  786.711731      0  \n",
       "voltage [V]  787.848816  787.086548  785.023132  782.941528      0  \n",
       "\n",
       "[5 rows x 1001 columns]"
      ]
     },
     "execution_count": 7,
     "metadata": {},
     "output_type": "execute_result"
    }
   ],
   "source": [
    "dataset = pd.concat([df_normal_list, df_error], axis=0)\n",
    "dataset.head()"
   ]
  },
  {
   "cell_type": "code",
   "execution_count": 8,
   "metadata": {
    "ExecuteTime": {
     "end_time": "2019-04-18T10:43:26.511876Z",
     "start_time": "2019-04-18T10:43:24.951182Z"
    }
   },
   "outputs": [
    {
     "data": {
      "text/html": [
       "<div>\n",
       "<style scoped>\n",
       "    .dataframe tbody tr th:only-of-type {\n",
       "        vertical-align: middle;\n",
       "    }\n",
       "\n",
       "    .dataframe tbody tr th {\n",
       "        vertical-align: top;\n",
       "    }\n",
       "\n",
       "    .dataframe thead th {\n",
       "        text-align: right;\n",
       "    }\n",
       "</style>\n",
       "<table border=\"1\" class=\"dataframe\">\n",
       "  <thead>\n",
       "    <tr style=\"text-align: right;\">\n",
       "      <th></th>\n",
       "      <th>0</th>\n",
       "      <th>1</th>\n",
       "      <th>2</th>\n",
       "      <th>3</th>\n",
       "      <th>4</th>\n",
       "      <th>5</th>\n",
       "      <th>6</th>\n",
       "      <th>7</th>\n",
       "      <th>8</th>\n",
       "      <th>9</th>\n",
       "      <th>...</th>\n",
       "      <th>991</th>\n",
       "      <th>992</th>\n",
       "      <th>993</th>\n",
       "      <th>994</th>\n",
       "      <th>995</th>\n",
       "      <th>996</th>\n",
       "      <th>997</th>\n",
       "      <th>998</th>\n",
       "      <th>999</th>\n",
       "      <th>label</th>\n",
       "    </tr>\n",
       "  </thead>\n",
       "  <tbody>\n",
       "    <tr>\n",
       "      <th>count</th>\n",
       "      <td>80.000000</td>\n",
       "      <td>80.000000</td>\n",
       "      <td>80.000000</td>\n",
       "      <td>80.000000</td>\n",
       "      <td>80.000000</td>\n",
       "      <td>80.000000</td>\n",
       "      <td>80.000000</td>\n",
       "      <td>80.000000</td>\n",
       "      <td>80.000000</td>\n",
       "      <td>80.000000</td>\n",
       "      <td>...</td>\n",
       "      <td>80.000000</td>\n",
       "      <td>80.000000</td>\n",
       "      <td>80.000000</td>\n",
       "      <td>80.000000</td>\n",
       "      <td>80.000000</td>\n",
       "      <td>80.000000</td>\n",
       "      <td>80.000000</td>\n",
       "      <td>80.000000</td>\n",
       "      <td>80.000000</td>\n",
       "      <td>80.000000</td>\n",
       "    </tr>\n",
       "    <tr>\n",
       "      <th>mean</th>\n",
       "      <td>785.702467</td>\n",
       "      <td>784.541579</td>\n",
       "      <td>783.542122</td>\n",
       "      <td>782.348837</td>\n",
       "      <td>780.648544</td>\n",
       "      <td>783.452133</td>\n",
       "      <td>782.923596</td>\n",
       "      <td>783.864854</td>\n",
       "      <td>782.143424</td>\n",
       "      <td>782.167913</td>\n",
       "      <td>...</td>\n",
       "      <td>801.422497</td>\n",
       "      <td>782.697047</td>\n",
       "      <td>787.664675</td>\n",
       "      <td>786.069158</td>\n",
       "      <td>789.841161</td>\n",
       "      <td>789.882719</td>\n",
       "      <td>790.402818</td>\n",
       "      <td>787.219369</td>\n",
       "      <td>786.160804</td>\n",
       "      <td>1.500000</td>\n",
       "    </tr>\n",
       "    <tr>\n",
       "      <th>std</th>\n",
       "      <td>5.284320</td>\n",
       "      <td>2.656379</td>\n",
       "      <td>3.011840</td>\n",
       "      <td>2.588998</td>\n",
       "      <td>3.572224</td>\n",
       "      <td>9.013017</td>\n",
       "      <td>4.675291</td>\n",
       "      <td>4.879789</td>\n",
       "      <td>5.709653</td>\n",
       "      <td>10.835386</td>\n",
       "      <td>...</td>\n",
       "      <td>23.218355</td>\n",
       "      <td>16.384524</td>\n",
       "      <td>4.925348</td>\n",
       "      <td>4.736562</td>\n",
       "      <td>5.157069</td>\n",
       "      <td>7.106287</td>\n",
       "      <td>7.984407</td>\n",
       "      <td>6.254225</td>\n",
       "      <td>4.726753</td>\n",
       "      <td>1.125088</td>\n",
       "    </tr>\n",
       "    <tr>\n",
       "      <th>min</th>\n",
       "      <td>774.184326</td>\n",
       "      <td>777.300232</td>\n",
       "      <td>774.372314</td>\n",
       "      <td>775.529236</td>\n",
       "      <td>769.735657</td>\n",
       "      <td>765.522522</td>\n",
       "      <td>768.686768</td>\n",
       "      <td>769.519897</td>\n",
       "      <td>766.412170</td>\n",
       "      <td>763.242676</td>\n",
       "      <td>...</td>\n",
       "      <td>784.174622</td>\n",
       "      <td>762.627258</td>\n",
       "      <td>778.934753</td>\n",
       "      <td>776.062683</td>\n",
       "      <td>777.762268</td>\n",
       "      <td>772.329956</td>\n",
       "      <td>772.211731</td>\n",
       "      <td>768.036743</td>\n",
       "      <td>769.358704</td>\n",
       "      <td>0.000000</td>\n",
       "    </tr>\n",
       "    <tr>\n",
       "      <th>25%</th>\n",
       "      <td>783.361847</td>\n",
       "      <td>783.721146</td>\n",
       "      <td>782.214233</td>\n",
       "      <td>781.181992</td>\n",
       "      <td>779.223801</td>\n",
       "      <td>778.418137</td>\n",
       "      <td>781.181366</td>\n",
       "      <td>783.083786</td>\n",
       "      <td>779.337616</td>\n",
       "      <td>776.903015</td>\n",
       "      <td>...</td>\n",
       "      <td>787.392166</td>\n",
       "      <td>770.962219</td>\n",
       "      <td>783.873825</td>\n",
       "      <td>783.384674</td>\n",
       "      <td>787.987701</td>\n",
       "      <td>785.533051</td>\n",
       "      <td>786.261414</td>\n",
       "      <td>783.823013</td>\n",
       "      <td>784.289139</td>\n",
       "      <td>0.750000</td>\n",
       "    </tr>\n",
       "    <tr>\n",
       "      <th>50%</th>\n",
       "      <td>785.050385</td>\n",
       "      <td>784.564758</td>\n",
       "      <td>784.086212</td>\n",
       "      <td>782.169281</td>\n",
       "      <td>781.313416</td>\n",
       "      <td>781.223023</td>\n",
       "      <td>783.207153</td>\n",
       "      <td>784.421722</td>\n",
       "      <td>781.414978</td>\n",
       "      <td>780.072662</td>\n",
       "      <td>...</td>\n",
       "      <td>790.834381</td>\n",
       "      <td>774.987183</td>\n",
       "      <td>786.749115</td>\n",
       "      <td>785.364258</td>\n",
       "      <td>788.792206</td>\n",
       "      <td>788.450745</td>\n",
       "      <td>788.827332</td>\n",
       "      <td>786.668091</td>\n",
       "      <td>786.621582</td>\n",
       "      <td>1.500000</td>\n",
       "    </tr>\n",
       "    <tr>\n",
       "      <th>75%</th>\n",
       "      <td>787.129425</td>\n",
       "      <td>786.112823</td>\n",
       "      <td>785.721375</td>\n",
       "      <td>784.270752</td>\n",
       "      <td>782.675308</td>\n",
       "      <td>785.652252</td>\n",
       "      <td>785.873917</td>\n",
       "      <td>785.655685</td>\n",
       "      <td>786.581039</td>\n",
       "      <td>785.104340</td>\n",
       "      <td>...</td>\n",
       "      <td>807.354675</td>\n",
       "      <td>791.529755</td>\n",
       "      <td>791.242844</td>\n",
       "      <td>789.750534</td>\n",
       "      <td>790.420853</td>\n",
       "      <td>792.997620</td>\n",
       "      <td>793.622482</td>\n",
       "      <td>790.620651</td>\n",
       "      <td>788.308701</td>\n",
       "      <td>2.250000</td>\n",
       "    </tr>\n",
       "    <tr>\n",
       "      <th>max</th>\n",
       "      <td>804.759766</td>\n",
       "      <td>789.580139</td>\n",
       "      <td>787.957275</td>\n",
       "      <td>786.837707</td>\n",
       "      <td>787.134705</td>\n",
       "      <td>810.300293</td>\n",
       "      <td>790.527100</td>\n",
       "      <td>792.941528</td>\n",
       "      <td>791.987061</td>\n",
       "      <td>812.330322</td>\n",
       "      <td>...</td>\n",
       "      <td>880.260742</td>\n",
       "      <td>833.462219</td>\n",
       "      <td>800.511536</td>\n",
       "      <td>798.087769</td>\n",
       "      <td>809.265320</td>\n",
       "      <td>808.796814</td>\n",
       "      <td>814.559753</td>\n",
       "      <td>800.787537</td>\n",
       "      <td>796.938782</td>\n",
       "      <td>3.000000</td>\n",
       "    </tr>\n",
       "  </tbody>\n",
       "</table>\n",
       "<p>8 rows × 1001 columns</p>\n",
       "</div>"
      ],
      "text/plain": [
       "                0           1           2           3           4           5  \\\n",
       "count   80.000000   80.000000   80.000000   80.000000   80.000000   80.000000   \n",
       "mean   785.702467  784.541579  783.542122  782.348837  780.648544  783.452133   \n",
       "std      5.284320    2.656379    3.011840    2.588998    3.572224    9.013017   \n",
       "min    774.184326  777.300232  774.372314  775.529236  769.735657  765.522522   \n",
       "25%    783.361847  783.721146  782.214233  781.181992  779.223801  778.418137   \n",
       "50%    785.050385  784.564758  784.086212  782.169281  781.313416  781.223023   \n",
       "75%    787.129425  786.112823  785.721375  784.270752  782.675308  785.652252   \n",
       "max    804.759766  789.580139  787.957275  786.837707  787.134705  810.300293   \n",
       "\n",
       "                6           7           8           9  ...         991  \\\n",
       "count   80.000000   80.000000   80.000000   80.000000  ...   80.000000   \n",
       "mean   782.923596  783.864854  782.143424  782.167913  ...  801.422497   \n",
       "std      4.675291    4.879789    5.709653   10.835386  ...   23.218355   \n",
       "min    768.686768  769.519897  766.412170  763.242676  ...  784.174622   \n",
       "25%    781.181366  783.083786  779.337616  776.903015  ...  787.392166   \n",
       "50%    783.207153  784.421722  781.414978  780.072662  ...  790.834381   \n",
       "75%    785.873917  785.655685  786.581039  785.104340  ...  807.354675   \n",
       "max    790.527100  792.941528  791.987061  812.330322  ...  880.260742   \n",
       "\n",
       "              992         993         994         995         996         997  \\\n",
       "count   80.000000   80.000000   80.000000   80.000000   80.000000   80.000000   \n",
       "mean   782.697047  787.664675  786.069158  789.841161  789.882719  790.402818   \n",
       "std     16.384524    4.925348    4.736562    5.157069    7.106287    7.984407   \n",
       "min    762.627258  778.934753  776.062683  777.762268  772.329956  772.211731   \n",
       "25%    770.962219  783.873825  783.384674  787.987701  785.533051  786.261414   \n",
       "50%    774.987183  786.749115  785.364258  788.792206  788.450745  788.827332   \n",
       "75%    791.529755  791.242844  789.750534  790.420853  792.997620  793.622482   \n",
       "max    833.462219  800.511536  798.087769  809.265320  808.796814  814.559753   \n",
       "\n",
       "              998         999      label  \n",
       "count   80.000000   80.000000  80.000000  \n",
       "mean   787.219369  786.160804   1.500000  \n",
       "std      6.254225    4.726753   1.125088  \n",
       "min    768.036743  769.358704   0.000000  \n",
       "25%    783.823013  784.289139   0.750000  \n",
       "50%    786.668091  786.621582   1.500000  \n",
       "75%    790.620651  788.308701   2.250000  \n",
       "max    800.787537  796.938782   3.000000  \n",
       "\n",
       "[8 rows x 1001 columns]"
      ]
     },
     "execution_count": 8,
     "metadata": {},
     "output_type": "execute_result"
    }
   ],
   "source": [
    "# we shuffle our dataset\n",
    "class_names = np.array(['Normal', 'ErrorBS1', 'ErrorBS2', 'ErrorBS3'])\n",
    "\n",
    "dataset = shuffle(dataset)\n",
    "dataset.dropna(inplace=True)\n",
    "dataset.describe()"
   ]
  },
  {
   "cell_type": "code",
   "execution_count": 9,
   "metadata": {
    "ExecuteTime": {
     "end_time": "2019-04-18T10:43:28.288961Z",
     "start_time": "2019-04-18T10:43:26.675548Z"
    }
   },
   "outputs": [
    {
     "name": "stdout",
     "output_type": "stream",
     "text": [
      "Start cross validation\n",
      "   train-mlogloss-mean  train-mlogloss-std  test-mlogloss-mean  \\\n",
      "0             0.947275            0.007432            1.077541   \n",
      "1             0.681428            0.007750            0.888948   \n",
      "2             0.505026            0.007637            0.764634   \n",
      "3             0.382311            0.006659            0.667739   \n",
      "4             0.294754            0.005676            0.610963   \n",
      "\n",
      "   test-mlogloss-std  \n",
      "0           0.097280  \n",
      "1           0.125092  \n",
      "2           0.156234  \n",
      "3           0.167534  \n",
      "4           0.176332  \n"
     ]
    }
   ],
   "source": [
    "scaler = StandardScaler()\n",
    "X, y = dataset.iloc[:, :-1].values, dataset.iloc[:, -1].values\n",
    "X = scaler.fit_transform(X)\n",
    "\n",
    "X_train, X_test, y_train, y_test = train_test_split(X, y)\n",
    "\n",
    "dtrain = xgb.DMatrix(X_train, label=y_train)\n",
    "dtest = xgb.DMatrix(X_test, label=y_test)\n",
    "dcvset = xgb.DMatrix(X, y)\n",
    "param = {\n",
    "    'max_depth': 3,  # the maximum depth of each tree\n",
    "    'eta': 0.3,  # the training step for each iteration\n",
    "    'silent': 1,  # logging mode - quiet\n",
    "    'objective': 'multi:softprob',  # error evaluation for multiclass training\n",
    "    'num_class': 4\n",
    "}  # the number of classes that exist in this datset\n",
    "num_round = 20  # the number of training iterations\n",
    "\n",
    "model = xgb.XGBClassifier(objective='multi:softprob')\n",
    "\n",
    "# do cross validation\n",
    "print('Start cross validation')\n",
    "cvresult = xgb.cv(param,\n",
    "                  dcvset,\n",
    "                  num_boost_round=5000,\n",
    "                  nfold=15,\n",
    "                  metrics=['mlogloss'],\n",
    "                  early_stopping_rounds=50,\n",
    "                  stratified=True,\n",
    "                  as_pandas=True,\n",
    "                  seed=1301)\n",
    "print(cvresult.head())"
   ]
  },
  {
   "cell_type": "code",
   "execution_count": 10,
   "metadata": {
    "ExecuteTime": {
     "end_time": "2019-04-18T10:43:28.440583Z",
     "start_time": "2019-04-18T10:43:28.436655Z"
    }
   },
   "outputs": [
    {
     "name": "stdout",
     "output_type": "stream",
     "text": [
      "Best number of trees = 29\n"
     ]
    },
    {
     "data": {
      "text/plain": [
       "XGBClassifier(base_score=0.5, booster='gbtree', colsample_bylevel=1,\n",
       "       colsample_bytree=1, gamma=0, learning_rate=0.1, max_delta_step=0,\n",
       "       max_depth=3, min_child_weight=1, missing=None, n_estimators=29,\n",
       "       n_jobs=1, nthread=None, objective='multi:softprob', random_state=0,\n",
       "       reg_alpha=0, reg_lambda=1, scale_pos_weight=1, seed=None,\n",
       "       silent=True, subsample=1)"
      ]
     },
     "execution_count": 10,
     "metadata": {},
     "output_type": "execute_result"
    }
   ],
   "source": [
    "print('Best number of trees = {}'.format(cvresult.shape[0]))\n",
    "model.set_params(n_estimators=cvresult.shape[0])"
   ]
  },
  {
   "cell_type": "code",
   "execution_count": 21,
   "metadata": {
    "ExecuteTime": {
     "end_time": "2019-04-18T11:19:45.923457Z",
     "start_time": "2019-04-18T11:19:45.534030Z"
    }
   },
   "outputs": [
    {
     "name": "stdout",
     "output_type": "stream",
     "text": [
      "Fit on the trainingsdata\n",
      "Predict the probabilities based on features in the test set\n",
      "[0 2 0 0 2 3 2 1 1 1 2 0 1 1 0 0 3 2 1 2]\n",
      "[0 2 0 0 2 3 2 1 1 1 2 0 2 1 0 0 0 2 1 2]\n"
     ]
    }
   ],
   "source": [
    "print('Fit on the trainingsdata')\n",
    "model.fit(X_train, y_train)\n",
    "#print('Overall AUC:', roc_auc_score(y, model.predict_proba(X)[:,1]))\n",
    "print('Predict the probabilities based on features in the test set')\n",
    "pred = model.predict(X_test, ntree_limit=cvresult.shape[0])\n",
    "print(pred)\n",
    "print(y_test)"
   ]
  },
  {
   "cell_type": "code",
   "execution_count": 22,
   "metadata": {
    "ExecuteTime": {
     "end_time": "2019-04-18T11:20:21.951265Z",
     "start_time": "2019-04-18T11:20:21.766770Z"
    }
   },
   "outputs": [
    {
     "data": {
      "text/plain": [
       "[<matplotlib.lines.Line2D at 0x7fcc6890d198>]"
      ]
     },
     "execution_count": 22,
     "metadata": {},
     "output_type": "execute_result"
    },
    {
     "data": {
      "image/png": "[encoded data removed]",
      "text/plain": [
       "<Figure size 792x720 with 1 Axes>"
      ]
     },
     "metadata": {},
     "output_type": "display_data"
    }
   ],
   "source": [
    "plt.plot(model.feature_importances_)"
   ]
  },
  {
   "cell_type": "code",
   "execution_count": 12,
   "metadata": {
    "ExecuteTime": {
     "end_time": "2019-04-18T10:43:46.339902Z",
     "start_time": "2019-04-18T10:43:44.134346Z"
    }
   },
   "outputs": [
    {
     "name": "stdout",
     "output_type": "stream",
     "text": [
      "Average score:0.9333333333333333+/-0.13591255358583407%\n"
     ]
    },
    {
     "data": {
      "image/png": "[encoded data removed]",
      "text/plain": [
       "<Figure size 792x720 with 1 Axes>"
      ]
     },
     "metadata": {},
     "output_type": "display_data"
    }
   ],
   "source": [
    "# Kfold\n",
    "from sklearn.model_selection import KFold, StratifiedKFold\n",
    "from sklearn.model_selection import cross_val_score\n",
    "\n",
    "kf = StratifiedKFold(n_splits=15)\n",
    "scores = cross_val_score(model, X, y, cv=kf, n_jobs=-1)\n",
    "evaluate_score(scores)"
   ]
  },
  {
   "cell_type": "code",
   "execution_count": 13,
   "metadata": {
    "ExecuteTime": {
     "end_time": "2019-04-18T10:43:54.391659Z",
     "start_time": "2019-04-18T10:43:50.086724Z"
    }
   },
   "outputs": [
    {
     "name": "stdout",
     "output_type": "stream",
     "text": [
      "Normalized confusion matrix\n",
      "[[0.95 0.   0.   0.05]\n",
      " [0.   0.95 0.05 0.  ]\n",
      " [0.   0.05 0.85 0.1 ]\n",
      " [0.   0.   0.   1.  ]]\n"
     ]
    },
    {
     "data": {
      "text/plain": [
       "<matplotlib.axes._subplots.AxesSubplot at 0x7fcc96516358>"
      ]
     },
     "execution_count": 13,
     "metadata": {},
     "output_type": "execute_result"
    },
    {
     "data": {
      "image/png": "[encoded data removed]",
      "text/plain": [
       "<Figure size 792x720 with 2 Axes>"
      ]
     },
     "metadata": {},
     "output_type": "display_data"
    }
   ],
   "source": [
    "from sklearn.model_selection import cross_val_predict\n",
    "\n",
    "y_pred = cross_val_predict(model, X, y, cv=10)\n",
    "conf_mat = confusion_matrix(y, y_pred)\n",
    "plot_confusion_matrix(y,\n",
    "                      y_pred,\n",
    "                      classes=class_names,\n",
    "                      normalize=True,\n",
    "                      title='Normalized confusion matrix')"
   ]
  }
 ],
 "metadata": {
  "hide_input": false,
  "kernelspec": {
   "display_name": "Python 3",
   "language": "python",
   "name": "python3"
  },
  "language_info": {
   "codemirror_mode": {
    "name": "ipython",
    "version": 3
   },
   "file_extension": ".py",
   "mimetype": "text/x-python",
   "name": "python",
   "nbconvert_exporter": "python",
   "pygments_lexer": "ipython3",
   "version": "3.6.5"
  },
  "toc": {
   "base_numbering": 1,
   "nav_menu": {},
   "number_sections": true,
   "sideBar": true,
   "skip_h1_title": false,
   "title_cell": "Table of Contents",
   "title_sidebar": "Contents",
   "toc_cell": false,
   "toc_position": {},
   "toc_section_display": true,
   "toc_window_display": false
  },
  "varInspector": {
   "cols": {
    "lenName": 16,
    "lenType": 16,
    "lenVar": 40
   },
   "kernels_config": {
    "python": {
     "delete_cmd_postfix": "",
     "delete_cmd_prefix": "del ",
     "library": "var_list.py",
     "varRefreshCmd": "print(var_dic_list())"
    },
    "r": {
     "delete_cmd_postfix": ") ",
     "delete_cmd_prefix": "rm(",
     "library": "var_list.r",
     "varRefreshCmd": "cat(var_dic_list()) "
    }
   },
   "types_to_exclude": [
    "module",
    "function",
    "builtin_function_or_method",
    "instance",
    "_Feature"
   ],
   "window_display": false
  }
 },
 "nbformat": 4,
 "nbformat_minor": 2
}
