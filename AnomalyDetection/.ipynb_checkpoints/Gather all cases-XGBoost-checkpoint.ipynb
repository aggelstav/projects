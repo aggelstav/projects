{
 "cells": [
  {
   "cell_type": "code",
   "execution_count": 369,
   "metadata": {},
   "outputs": [],
   "source": [
    "from pathlib import Path\n",
    "import pandas as pd\n",
    "import matplotlib.pylab as plt\n",
    "import numpy as np\n",
    "from xgboost import XGBClassifier\n",
    "from sklearn.model_selection import train_test_split\n",
    "from sklearn.metrics import accuracy_score, confusion_matrix\n",
    "from sklearn.utils import shuffle\n",
    "from sklearn.preprocessing import MinMaxScaler, StandardScaler\n",
    "plt.style.use('seaborn-white')"
   ]
  },
  {
   "cell_type": "code",
   "execution_count": 370,
   "metadata": {},
   "outputs": [],
   "source": [
    "def plot_confusion_matrix(y_true, y_pred, classes,\n",
    "                          normalize=False,\n",
    "                          title=None,\n",
    "                          cmap=plt.cm.Blues):\n",
    "    \"\"\"\n",
    "    This function prints and plots the confusion matrix.\n",
    "    Normalization can be applied by setting `normalize=True`.\n",
    "    \"\"\"\n",
    "    if not title:\n",
    "        if normalize:\n",
    "            title = 'Normalized confusion matrix'\n",
    "        else:\n",
    "            title = 'Confusion matrix, without normalization'\n",
    "\n",
    "    # Compute confusion matrix\n",
    "    cm = confusion_matrix(y_true, y_pred)\n",
    "    # Only use the labels that appear in the data\n",
    "    classes = classes[unique_labels(y_true, y_pred)]\n",
    "    if normalize:\n",
    "        cm = cm.astype('float') / cm.sum(axis=1)[:, np.newaxis]\n",
    "        print(\"Normalized confusion matrix\")\n",
    "    else:\n",
    "        print('Confusion matrix, without normalization')\n",
    "\n",
    "    print(cm)\n",
    "    fig, ax = plt.subplots()\n",
    "    im = ax.imshow(cm, interpolation='nearest', cmap=cmap)\n",
    "    ax.figure.colorbar(im, ax=ax)\n",
    "    # We want to show all ticks...\n",
    "    ax.set(xticks=np.arange(cm.shape[1]),\n",
    "           yticks=np.arange(cm.shape[0]),\n",
    "           # ... and label them with the respective list entries\n",
    "           xticklabels=classes, yticklabels=classes,\n",
    "           title=title,\n",
    "           ylabel='True label',\n",
    "           xlabel='Predicted label')\n",
    "\n",
    "    # Rotate the tick labels and set their alignment.\n",
    "    plt.setp(ax.get_xticklabels(), rotation=45, ha=\"right\",\n",
    "             rotation_mode=\"anchor\")\n",
    "\n",
    "    # Loop over data dimensions and create text annotations.\n",
    "    fmt = '.2f' if normalize else 'd'\n",
    "    thresh = cm.max() / 2.\n",
    "    for i in range(cm.shape[0]):\n",
    "        for j in range(cm.shape[1]):\n",
    "            ax.text(j, i, format(cm[i, j], fmt),\n",
    "                    ha=\"center\", va=\"center\",\n",
    "                    color=\"white\" if cm[i, j] > thresh else \"black\")\n",
    "    fig.tight_layout()\n",
    "    return ax"
   ]
  },
  {
   "cell_type": "code",
   "execution_count": 388,
   "metadata": {},
   "outputs": [],
   "source": [
    "def evaluate_score(score):\n",
    "    mean = np.mean(score)\n",
    "    std = np.std(score)\n",
    "    print(f\"Average score:{mean}+/-{std}%\")\n",
    "    plt.boxplot(scores)\n"
   ]
  },
  {
   "cell_type": "code",
   "execution_count": 371,
   "metadata": {},
   "outputs": [],
   "source": [
    "from pylab import rcParams\n",
    "rcParams['figure.figsize'] = 11, 10"
   ]
  },
  {
   "cell_type": "markdown",
   "metadata": {},
   "source": [
    "We define two labels for our datasets ,1 for normal and 2 for problematic scenarios. "
   ]
  },
  {
   "cell_type": "code",
   "execution_count": 372,
   "metadata": {},
   "outputs": [],
   "source": [
    "normal_labels = np.ones((20,1))"
   ]
  },
  {
   "cell_type": "code",
   "execution_count": 373,
   "metadata": {},
   "outputs": [],
   "source": [
    "error_labels = np.zeros((60,1))"
   ]
  },
  {
   "cell_type": "markdown",
   "metadata": {},
   "source": [
    "Our dataset is spread over many csv files. We keep only the voltage series, add a label column and concatanate all dataframes into one.\n",
    "So now we have one dataset which rows are sampled sequences and the last column is the label (1 or 0) of this sequence.\n",
    "Now we can train a classifier to tell apart the normal from the problematic sequences."
   ]
  },
  {
   "cell_type": "code",
   "execution_count": 374,
   "metadata": {},
   "outputs": [],
   "source": [
    "df_normal_list = pd.DataFrame()\n",
    "pathlist = Path(\"/home/aggelos-i3/Downloads/simu Elbas/7h33NO\").glob('**/*.xls')\n",
    "for path in pathlist:\n",
    "    # because path is object not string\n",
    "    path_in_str = str(path)\n",
    "    df = pd.read_csv(path_in_str, delimiter='\\t')\n",
    "    df = df[['voltage [V]']][:1000].transpose()\n",
    "    #df = df.set_index(\"loc. (actual) [km]\")\n",
    "    #df.dropna(inplace=True)\n",
    "    #df.sort_index(inplace=True)\n",
    "    if df_normal_list.empty:\n",
    "        df_normal_list = df\n",
    "    else:\n",
    "        df_normal_list = df_normal_list.append(df)\n"
   ]
  },
  {
   "cell_type": "code",
   "execution_count": 375,
   "metadata": {},
   "outputs": [],
   "source": [
    "df_error_list = pd.DataFrame()\n",
    "for i in range(1, 4):\n",
    "    pathlist = Path(\n",
    "        f\"/home/aggelos-i3/Downloads/simu Elbas/7h33D{i}\").glob('**/*.xls')\n",
    "    for path in pathlist:\n",
    "        # because path is object not string\n",
    "        path_in_str = str(path)\n",
    "        df = pd.read_csv(path_in_str, delimiter='\\t')\n",
    "        df = df[['voltage [V]']][:1000].transpose()\n",
    "        #df = df.set_index(\"loc. (actual) [km]\")\n",
    "        # df.dropna(inplace=True)\n",
    "        if df_error_list.empty:\n",
    "            df_error_list = df\n",
    "        else:\n",
    "            df_error_list = df_error_list.append(df)"
   ]
  },
  {
   "cell_type": "code",
   "execution_count": 376,
   "metadata": {},
   "outputs": [],
   "source": [
    "X = pd.concat([df_normal_list, df_error_list], axis=0)\n",
    "X.shape\n",
    "dataset = X"
   ]
  },
  {
   "cell_type": "code",
   "execution_count": 377,
   "metadata": {},
   "outputs": [],
   "source": [
    "y = np.concatenate([normal_labels, error_labels], axis=0)\n",
    "dataset['labels'] = y.astype(int)"
   ]
  },
  {
   "cell_type": "code",
   "execution_count": 378,
   "metadata": {},
   "outputs": [
    {
     "data": {
      "text/html": [
       "<div>\n",
       "<style scoped>\n",
       "    .dataframe tbody tr th:only-of-type {\n",
       "        vertical-align: middle;\n",
       "    }\n",
       "\n",
       "    .dataframe tbody tr th {\n",
       "        vertical-align: top;\n",
       "    }\n",
       "\n",
       "    .dataframe thead th {\n",
       "        text-align: right;\n",
       "    }\n",
       "</style>\n",
       "<table border=\"1\" class=\"dataframe\">\n",
       "  <thead>\n",
       "    <tr style=\"text-align: right;\">\n",
       "      <th></th>\n",
       "      <th>0</th>\n",
       "      <th>1</th>\n",
       "      <th>2</th>\n",
       "      <th>3</th>\n",
       "      <th>4</th>\n",
       "      <th>5</th>\n",
       "      <th>6</th>\n",
       "      <th>7</th>\n",
       "      <th>8</th>\n",
       "      <th>9</th>\n",
       "      <th>...</th>\n",
       "      <th>991</th>\n",
       "      <th>992</th>\n",
       "      <th>993</th>\n",
       "      <th>994</th>\n",
       "      <th>995</th>\n",
       "      <th>996</th>\n",
       "      <th>997</th>\n",
       "      <th>998</th>\n",
       "      <th>999</th>\n",
       "      <th>labels</th>\n",
       "    </tr>\n",
       "  </thead>\n",
       "  <tbody>\n",
       "    <tr>\n",
       "      <th>count</th>\n",
       "      <td>80.000000</td>\n",
       "      <td>80.000000</td>\n",
       "      <td>80.000000</td>\n",
       "      <td>80.000000</td>\n",
       "      <td>80.000000</td>\n",
       "      <td>80.000000</td>\n",
       "      <td>80.000000</td>\n",
       "      <td>80.000000</td>\n",
       "      <td>80.000000</td>\n",
       "      <td>80.000000</td>\n",
       "      <td>...</td>\n",
       "      <td>80.000000</td>\n",
       "      <td>80.000000</td>\n",
       "      <td>80.000000</td>\n",
       "      <td>80.000000</td>\n",
       "      <td>80.000000</td>\n",
       "      <td>80.000000</td>\n",
       "      <td>80.000000</td>\n",
       "      <td>80.000000</td>\n",
       "      <td>80.000000</td>\n",
       "      <td>80.000000</td>\n",
       "    </tr>\n",
       "    <tr>\n",
       "      <th>mean</th>\n",
       "      <td>785.702467</td>\n",
       "      <td>784.541579</td>\n",
       "      <td>783.542122</td>\n",
       "      <td>782.348837</td>\n",
       "      <td>780.648544</td>\n",
       "      <td>783.452133</td>\n",
       "      <td>782.923596</td>\n",
       "      <td>783.864854</td>\n",
       "      <td>782.143424</td>\n",
       "      <td>782.167913</td>\n",
       "      <td>...</td>\n",
       "      <td>801.422497</td>\n",
       "      <td>782.697047</td>\n",
       "      <td>787.664675</td>\n",
       "      <td>786.069158</td>\n",
       "      <td>789.841161</td>\n",
       "      <td>789.882719</td>\n",
       "      <td>790.402818</td>\n",
       "      <td>787.219369</td>\n",
       "      <td>786.160804</td>\n",
       "      <td>0.250000</td>\n",
       "    </tr>\n",
       "    <tr>\n",
       "      <th>std</th>\n",
       "      <td>5.284320</td>\n",
       "      <td>2.656379</td>\n",
       "      <td>3.011840</td>\n",
       "      <td>2.588998</td>\n",
       "      <td>3.572224</td>\n",
       "      <td>9.013017</td>\n",
       "      <td>4.675291</td>\n",
       "      <td>4.879789</td>\n",
       "      <td>5.709653</td>\n",
       "      <td>10.835386</td>\n",
       "      <td>...</td>\n",
       "      <td>23.218355</td>\n",
       "      <td>16.384524</td>\n",
       "      <td>4.925348</td>\n",
       "      <td>4.736562</td>\n",
       "      <td>5.157069</td>\n",
       "      <td>7.106287</td>\n",
       "      <td>7.984407</td>\n",
       "      <td>6.254225</td>\n",
       "      <td>4.726753</td>\n",
       "      <td>0.435745</td>\n",
       "    </tr>\n",
       "    <tr>\n",
       "      <th>min</th>\n",
       "      <td>774.184326</td>\n",
       "      <td>777.300232</td>\n",
       "      <td>774.372314</td>\n",
       "      <td>775.529236</td>\n",
       "      <td>769.735657</td>\n",
       "      <td>765.522522</td>\n",
       "      <td>768.686768</td>\n",
       "      <td>769.519897</td>\n",
       "      <td>766.412170</td>\n",
       "      <td>763.242676</td>\n",
       "      <td>...</td>\n",
       "      <td>784.174622</td>\n",
       "      <td>762.627258</td>\n",
       "      <td>778.934753</td>\n",
       "      <td>776.062683</td>\n",
       "      <td>777.762268</td>\n",
       "      <td>772.329956</td>\n",
       "      <td>772.211731</td>\n",
       "      <td>768.036743</td>\n",
       "      <td>769.358704</td>\n",
       "      <td>0.000000</td>\n",
       "    </tr>\n",
       "    <tr>\n",
       "      <th>25%</th>\n",
       "      <td>783.361847</td>\n",
       "      <td>783.721146</td>\n",
       "      <td>782.214233</td>\n",
       "      <td>781.181992</td>\n",
       "      <td>779.223801</td>\n",
       "      <td>778.418137</td>\n",
       "      <td>781.181366</td>\n",
       "      <td>783.083786</td>\n",
       "      <td>779.337616</td>\n",
       "      <td>776.903015</td>\n",
       "      <td>...</td>\n",
       "      <td>787.392166</td>\n",
       "      <td>770.962219</td>\n",
       "      <td>783.873825</td>\n",
       "      <td>783.384674</td>\n",
       "      <td>787.987701</td>\n",
       "      <td>785.533051</td>\n",
       "      <td>786.261414</td>\n",
       "      <td>783.823013</td>\n",
       "      <td>784.289139</td>\n",
       "      <td>0.000000</td>\n",
       "    </tr>\n",
       "    <tr>\n",
       "      <th>50%</th>\n",
       "      <td>785.050385</td>\n",
       "      <td>784.564758</td>\n",
       "      <td>784.086212</td>\n",
       "      <td>782.169281</td>\n",
       "      <td>781.313416</td>\n",
       "      <td>781.223023</td>\n",
       "      <td>783.207153</td>\n",
       "      <td>784.421722</td>\n",
       "      <td>781.414978</td>\n",
       "      <td>780.072662</td>\n",
       "      <td>...</td>\n",
       "      <td>790.834381</td>\n",
       "      <td>774.987183</td>\n",
       "      <td>786.749115</td>\n",
       "      <td>785.364258</td>\n",
       "      <td>788.792206</td>\n",
       "      <td>788.450745</td>\n",
       "      <td>788.827332</td>\n",
       "      <td>786.668091</td>\n",
       "      <td>786.621582</td>\n",
       "      <td>0.000000</td>\n",
       "    </tr>\n",
       "    <tr>\n",
       "      <th>75%</th>\n",
       "      <td>787.129425</td>\n",
       "      <td>786.112823</td>\n",
       "      <td>785.721375</td>\n",
       "      <td>784.270752</td>\n",
       "      <td>782.675308</td>\n",
       "      <td>785.652252</td>\n",
       "      <td>785.873917</td>\n",
       "      <td>785.655685</td>\n",
       "      <td>786.581039</td>\n",
       "      <td>785.104340</td>\n",
       "      <td>...</td>\n",
       "      <td>807.354675</td>\n",
       "      <td>791.529755</td>\n",
       "      <td>791.242844</td>\n",
       "      <td>789.750534</td>\n",
       "      <td>790.420853</td>\n",
       "      <td>792.997620</td>\n",
       "      <td>793.622482</td>\n",
       "      <td>790.620651</td>\n",
       "      <td>788.308701</td>\n",
       "      <td>0.250000</td>\n",
       "    </tr>\n",
       "    <tr>\n",
       "      <th>max</th>\n",
       "      <td>804.759766</td>\n",
       "      <td>789.580139</td>\n",
       "      <td>787.957275</td>\n",
       "      <td>786.837707</td>\n",
       "      <td>787.134705</td>\n",
       "      <td>810.300293</td>\n",
       "      <td>790.527100</td>\n",
       "      <td>792.941528</td>\n",
       "      <td>791.987061</td>\n",
       "      <td>812.330322</td>\n",
       "      <td>...</td>\n",
       "      <td>880.260742</td>\n",
       "      <td>833.462219</td>\n",
       "      <td>800.511536</td>\n",
       "      <td>798.087769</td>\n",
       "      <td>809.265320</td>\n",
       "      <td>808.796814</td>\n",
       "      <td>814.559753</td>\n",
       "      <td>800.787537</td>\n",
       "      <td>796.938782</td>\n",
       "      <td>1.000000</td>\n",
       "    </tr>\n",
       "  </tbody>\n",
       "</table>\n",
       "<p>8 rows × 1001 columns</p>\n",
       "</div>"
      ],
      "text/plain": [
       "                0           1           2           3           4           5  \\\n",
       "count   80.000000   80.000000   80.000000   80.000000   80.000000   80.000000   \n",
       "mean   785.702467  784.541579  783.542122  782.348837  780.648544  783.452133   \n",
       "std      5.284320    2.656379    3.011840    2.588998    3.572224    9.013017   \n",
       "min    774.184326  777.300232  774.372314  775.529236  769.735657  765.522522   \n",
       "25%    783.361847  783.721146  782.214233  781.181992  779.223801  778.418137   \n",
       "50%    785.050385  784.564758  784.086212  782.169281  781.313416  781.223023   \n",
       "75%    787.129425  786.112823  785.721375  784.270752  782.675308  785.652252   \n",
       "max    804.759766  789.580139  787.957275  786.837707  787.134705  810.300293   \n",
       "\n",
       "                6           7           8           9  ...         991  \\\n",
       "count   80.000000   80.000000   80.000000   80.000000  ...   80.000000   \n",
       "mean   782.923596  783.864854  782.143424  782.167913  ...  801.422497   \n",
       "std      4.675291    4.879789    5.709653   10.835386  ...   23.218355   \n",
       "min    768.686768  769.519897  766.412170  763.242676  ...  784.174622   \n",
       "25%    781.181366  783.083786  779.337616  776.903015  ...  787.392166   \n",
       "50%    783.207153  784.421722  781.414978  780.072662  ...  790.834381   \n",
       "75%    785.873917  785.655685  786.581039  785.104340  ...  807.354675   \n",
       "max    790.527100  792.941528  791.987061  812.330322  ...  880.260742   \n",
       "\n",
       "              992         993         994         995         996         997  \\\n",
       "count   80.000000   80.000000   80.000000   80.000000   80.000000   80.000000   \n",
       "mean   782.697047  787.664675  786.069158  789.841161  789.882719  790.402818   \n",
       "std     16.384524    4.925348    4.736562    5.157069    7.106287    7.984407   \n",
       "min    762.627258  778.934753  776.062683  777.762268  772.329956  772.211731   \n",
       "25%    770.962219  783.873825  783.384674  787.987701  785.533051  786.261414   \n",
       "50%    774.987183  786.749115  785.364258  788.792206  788.450745  788.827332   \n",
       "75%    791.529755  791.242844  789.750534  790.420853  792.997620  793.622482   \n",
       "max    833.462219  800.511536  798.087769  809.265320  808.796814  814.559753   \n",
       "\n",
       "              998         999     labels  \n",
       "count   80.000000   80.000000  80.000000  \n",
       "mean   787.219369  786.160804   0.250000  \n",
       "std      6.254225    4.726753   0.435745  \n",
       "min    768.036743  769.358704   0.000000  \n",
       "25%    783.823013  784.289139   0.000000  \n",
       "50%    786.668091  786.621582   0.000000  \n",
       "75%    790.620651  788.308701   0.250000  \n",
       "max    800.787537  796.938782   1.000000  \n",
       "\n",
       "[8 rows x 1001 columns]"
      ]
     },
     "execution_count": 378,
     "metadata": {},
     "output_type": "execute_result"
    }
   ],
   "source": [
    "# we shuffle our dataset\n",
    "class_names = np.array(['Error', 'Normal'])\n",
    "\n",
    "dataset = shuffle(dataset)\n",
    "dataset.dropna(inplace=True)\n",
    "dataset.describe()"
   ]
  },
  {
   "cell_type": "code",
   "execution_count": 379,
   "metadata": {},
   "outputs": [
    {
     "name": "stdout",
     "output_type": "stream",
     "text": [
      "Accuracy: 70.00%\n"
     ]
    }
   ],
   "source": [
    "scaler  = StandardScaler()\n",
    "X, y = dataset.iloc[:, :-1].values, dataset.iloc[:, -1].values\n",
    "X = scaler.fit_transform(X)\n",
    "# split our dataset 0.75 train 0.25 test\n",
    "# although since our dataset is smalll we will later user kfold crossvalidation \n",
    "X_train, X_test, y_train, y_test = train_test_split(X, y)\n",
    "# fit model no training data\n",
    "eval_set = [(X_test, y_test)]\n",
    "\n",
    "model = XGBClassifier()\n",
    "model.fit(\n",
    "    X_train,\n",
    "    y_train,\n",
    "    early_stopping_rounds=10,\n",
    "    eval_metric=\"logloss\",\n",
    "    eval_set=eval_set,\n",
    "    verbose=False)\n",
    "# make predictions for test data\n",
    "y_pred = model.predict(X_test)\n",
    "predictions = [round(value) for value in y_pred]\n",
    "# evaluate predictions\n",
    "accuracy = accuracy_score(y_test, predictions)\n",
    "conf_matr = confusion_matrix(y_test, predictions)\n",
    "print(\"Accuracy: %.2f%%\" % (accuracy * 100.0))\n"
   ]
  },
  {
   "cell_type": "code",
   "execution_count": 380,
   "metadata": {},
   "outputs": [
    {
     "name": "stdout",
     "output_type": "stream",
     "text": [
      "Normalized confusion matrix\n",
      "[[1.         0.        ]\n",
      " [0.85714286 0.14285714]]\n"
     ]
    },
    {
     "data": {
      "text/plain": [
       "<matplotlib.axes._subplots.AxesSubplot at 0x7fb379df5978>"
      ]
     },
     "execution_count": 380,
     "metadata": {},
     "output_type": "execute_result"
    },
    {
     "data": {
      "image/png": "[encoded data removed]",
      "text/plain": [
       "<Figure size 792x720 with 2 Axes>"
      ]
     },
     "metadata": {},
     "output_type": "display_data"
    }
   ],
   "source": [
    "plot_confusion_matrix(y_test, predictions, classes=class_names, normalize=True,\n",
    "                      title='Normalized confusion matrix from 1 run')"
   ]
  },
  {
   "cell_type": "code",
   "execution_count": 381,
   "metadata": {},
   "outputs": [
    {
     "data": {
      "image/png": "[encoded data removed]",
      "text/plain": [
       "<Figure size 792x720 with 1 Axes>"
      ]
     },
     "metadata": {},
     "output_type": "display_data"
    }
   ],
   "source": [
    "# plot\n",
    "plt.bar(range(len(model.feature_importances_)), model.feature_importances_)\n",
    "plt.show()"
   ]
  },
  {
   "cell_type": "code",
   "execution_count": 389,
   "metadata": {},
   "outputs": [
    {
     "name": "stdout",
     "output_type": "stream",
     "text": [
      "Average score:0.7625+/-0.14197270864500683%\n"
     ]
    },
    {
     "data": {
      "image/png": "[encoded data removed]",
      "text/plain": [
       "<Figure size 792x720 with 1 Axes>"
      ]
     },
     "metadata": {},
     "output_type": "display_data"
    }
   ],
   "source": [
    "#Kfold\n",
    "from sklearn.model_selection import KFold, StratifiedKFold\n",
    "from sklearn.model_selection import cross_val_score\n",
    "\n",
    "kf = StratifiedKFold(n_splits=10)\n",
    "scores = cross_val_score(model, X, y, cv=kf, n_jobs=-1)\n",
    "evaluate_score(scores)"
   ]
  },
  {
   "cell_type": "code",
   "execution_count": 390,
   "metadata": {},
   "outputs": [
    {
     "name": "stdout",
     "output_type": "stream",
     "text": [
      "Normalized confusion matrix\n",
      "[[0.86666667 0.13333333]\n",
      " [0.55       0.45      ]]\n"
     ]
    },
    {
     "data": {
      "text/plain": [
       "<matplotlib.axes._subplots.AxesSubplot at 0x7fb3793f9e10>"
      ]
     },
     "execution_count": 390,
     "metadata": {},
     "output_type": "execute_result"
    },
    {
     "data": {
      "image/png": "[encoded data removed]",
      "text/plain": [
       "<Figure size 792x720 with 2 Axes>"
      ]
     },
     "metadata": {},
     "output_type": "display_data"
    }
   ],
   "source": [
    "from sklearn.model_selection import cross_val_predict\n",
    "\n",
    "y_pred = cross_val_predict(model, X, y, cv=10)\n",
    "conf_mat = confusion_matrix(y, y_pred)\n",
    "plot_confusion_matrix(y, y_pred, classes=class_names, normalize=True,\n",
    "                      title='Normalized confusion matrix')"
   ]
  },
  {
   "cell_type": "markdown",
   "metadata": {},
   "source": [
    "# Support Vector Machine "
   ]
  },
  {
   "cell_type": "code",
   "execution_count": 349,
   "metadata": {},
   "outputs": [],
   "source": [
    " from sklearn.svm import SVC"
   ]
  },
  {
   "cell_type": "code",
   "execution_count": 354,
   "metadata": {},
   "outputs": [],
   "source": [
    "model = SVC(gamma='auto', kernel='rbf')"
   ]
  },
  {
   "cell_type": "code",
   "execution_count": 357,
   "metadata": {},
   "outputs": [
    {
     "name": "stdout",
     "output_type": "stream",
     "text": [
      "[0.75 0.75 0.75 0.75 0.75 0.75 0.75 0.75 0.75 0.75]\n"
     ]
    }
   ],
   "source": [
    "scores = cross_val_score(model, X, y, cv=kf, n_jobs=-1)\n",
    "print(scores)"
   ]
  },
  {
   "cell_type": "code",
   "execution_count": 356,
   "metadata": {},
   "outputs": [
    {
     "name": "stdout",
     "output_type": "stream",
     "text": [
      "Normalized confusion matrix\n",
      "[[1. 0.]\n",
      " [1. 0.]]\n"
     ]
    },
    {
     "data": {
      "text/plain": [
       "<matplotlib.axes._subplots.AxesSubplot at 0x7fb3796d3400>"
      ]
     },
     "execution_count": 356,
     "metadata": {},
     "output_type": "execute_result"
    },
    {
     "data": {
      "image/png": "[encoded data removed]",
      "text/plain": [
       "<Figure size 792x720 with 2 Axes>"
      ]
     },
     "metadata": {},
     "output_type": "display_data"
    }
   ],
   "source": [
    "y_pred = cross_val_predict(model, X, y, cv=10)\n",
    "conf_mat = confusion_matrix(y, y_pred)\n",
    "plot_confusion_matrix(y, y_pred, classes=class_names, normalize=True,\n",
    "                      title='Normalized confusion matrix')"
   ]
  },
  {
   "cell_type": "markdown",
   "metadata": {},
   "source": [
    "#    Naive Bayes Classifier"
   ]
  },
  {
   "cell_type": "code",
   "execution_count": 367,
   "metadata": {},
   "outputs": [
    {
     "name": "stdout",
     "output_type": "stream",
     "text": [
      "[0.5   0.625 0.625 0.5   0.25  0.625 0.625 0.375 0.625 0.625]\n"
     ]
    }
   ],
   "source": [
    "from sklearn.naive_bayes import GaussianNB, ComplementNB\n",
    "scaler = MinMaxScaler((0,1))\n",
    "X = scaler.fit_transform(X)\n",
    "model = GaussianNB()\n",
    "scores = cross_val_score(model, X, y, cv=kf, n_jobs=-1)\n",
    "print(scores)"
   ]
  },
  {
   "cell_type": "code",
   "execution_count": 368,
   "metadata": {},
   "outputs": [
    {
     "name": "stdout",
     "output_type": "stream",
     "text": [
      "Normalized confusion matrix\n",
      "[[0.71666667 0.28333333]\n",
      " [1.         0.        ]]\n"
     ]
    },
    {
     "data": {
      "text/plain": [
       "<matplotlib.axes._subplots.AxesSubplot at 0x7fb379c470f0>"
      ]
     },
     "execution_count": 368,
     "metadata": {},
     "output_type": "execute_result"
    },
    {
     "data": {
      "image/png": "[encoded data removed]",
      "text/plain": [
       "<Figure size 792x720 with 2 Axes>"
      ]
     },
     "metadata": {},
     "output_type": "display_data"
    }
   ],
   "source": [
    "y_pred = cross_val_predict(model, X, y, cv=10)\n",
    "conf_mat = confusion_matrix(y, y_pred)\n",
    "plot_confusion_matrix(y, y_pred, classes=class_names, normalize=True,\n",
    "                      title='Normalized confusion matrix')"
   ]
  },
  {
   "cell_type": "markdown",
   "metadata": {},
   "source": [
    "# Gradient Boost Classifier"
   ]
  },
  {
   "cell_type": "code",
   "execution_count": 387,
   "metadata": {},
   "outputs": [],
   "source": [
    "from sklearn.ensemble import GradientBoostingClassifier\n",
    "model = GradientBoostingClassifier"
   ]
  },
  {
   "cell_type": "code",
   "execution_count": 391,
   "metadata": {},
   "outputs": [
    {
     "name": "stdout",
     "output_type": "stream",
     "text": [
      "Average score:0.775+/-0.1346291201783626%\n"
     ]
    },
    {
     "data": {
      "image/png": "[encoded data removed]",
      "text/plain": [
       "<Figure size 792x720 with 1 Axes>"
      ]
     },
     "metadata": {},
     "output_type": "display_data"
    }
   ],
   "source": [
    "kf = StratifiedKFold(n_splits=10)\n",
    "scores = cross_val_score(model, X, y, cv=kf, n_jobs=-1)\n",
    "evaluate_score(scores)"
   ]
  },
  {
   "cell_type": "code",
   "execution_count": 392,
   "metadata": {},
   "outputs": [
    {
     "name": "stdout",
     "output_type": "stream",
     "text": [
      "Normalized confusion matrix\n",
      "[[0.88333333 0.11666667]\n",
      " [0.55       0.45      ]]\n"
     ]
    },
    {
     "data": {
      "text/plain": [
       "<matplotlib.axes._subplots.AxesSubplot at 0x7fb3794e09e8>"
      ]
     },
     "execution_count": 392,
     "metadata": {},
     "output_type": "execute_result"
    },
    {
     "data": {
      "image/png": "[encoded data removed]",
      "text/plain": [
       "<Figure size 792x720 with 2 Axes>"
      ]
     },
     "metadata": {},
     "output_type": "display_data"
    }
   ],
   "source": [
    "y_pred = cross_val_predict(model, X, y, cv=10)\n",
    "conf_mat = confusion_matrix(y, y_pred)\n",
    "plot_confusion_matrix(y, y_pred, classes=class_names, normalize=True,\n",
    "                      title='Normalized confusion matrix')"
   ]
  },
  {
   "cell_type": "code",
   "execution_count": null,
   "metadata": {},
   "outputs": [],
   "source": []
  }
 ],
 "metadata": {
  "hide_input": false,
  "kernelspec": {
   "display_name": "Python 3",
   "language": "python",
   "name": "python3"
  },
  "language_info": {
   "codemirror_mode": {
    "name": "ipython",
    "version": 3
   },
   "file_extension": ".py",
   "mimetype": "text/x-python",
   "name": "python",
   "nbconvert_exporter": "python",
   "pygments_lexer": "ipython3",
   "version": "3.6.5"
  },
  "toc": {
   "base_numbering": 1,
   "nav_menu": {},
   "number_sections": true,
   "sideBar": true,
   "skip_h1_title": false,
   "title_cell": "Table of Contents",
   "title_sidebar": "Contents",
   "toc_cell": false,
   "toc_position": {},
   "toc_section_display": true,
   "toc_window_display": false
  }
 },
 "nbformat": 4,
 "nbformat_minor": 2
}
