{
 "cells": [
  {
   "cell_type": "code",
   "execution_count": 2,
   "metadata": {
    "ExecuteTime": {
     "end_time": "2019-05-31T11:23:34.354766Z",
     "start_time": "2019-05-31T11:23:34.343660Z"
    }
   },
   "outputs": [],
   "source": [
    "import pandas as pd\n",
    "from pathlib import Path\n",
    "import numpy as np\n",
    "import tensorflow as tf\n",
    "from tensorflow.keras.layers import *\n",
    "import seaborn as sns\n",
    "from pylab import rcParams\n",
    "from sklearn.utils import shuffle\n",
    "from pdb import set_trace\n",
    "import matplotlib.pylab as plt\n",
    "import sys\n",
    "from sklearn.preprocessing import MinMaxScaler"
   ]
  },
  {
   "cell_type": "code",
   "execution_count": 3,
   "metadata": {
    "ExecuteTime": {
     "end_time": "2019-05-31T11:23:34.756092Z",
     "start_time": "2019-05-31T11:23:34.725901Z"
    }
   },
   "outputs": [],
   "source": [
    "sys.path.append('/home/aggelos-i3/ForecastingLib/')\n",
    "from tsutils import SequenceSpliter\n",
    "from utils import utilities\n",
    "rcParams['figure.figsize'] = 11, 7\n",
    "sns.set()"
   ]
  },
  {
   "cell_type": "code",
   "execution_count": 85,
   "metadata": {
    "ExecuteTime": {
     "end_time": "2019-05-31T11:40:08.285541Z",
     "start_time": "2019-05-31T11:40:04.935866Z"
    }
   },
   "outputs": [],
   "source": [
    "LOOKBACK = 100\n",
    "LOOK_AHEAD = 1\n",
    "num_features = len(['acceleration (actual) [m/(s*s)]', 'voltage [V]', 'tractive effort (actual) [kN]'])\n",
    "features = ['acceleration (actual) [m/(s*s)]', 'voltage [V]', 'tractive effort (actual) [kN]', 'loc. (actual) [km]']\n",
    "model = tf.keras.models.load_model(\"./models/anomaly_clfr.h5\")\n",
    "scaler = joblib.load(\"./models/scaler.save\") \n",
    "roll_filter = 10"
   ]
  },
  {
   "cell_type": "code",
   "execution_count": 91,
   "metadata": {
    "ExecuteTime": {
     "end_time": "2019-05-31T12:34:22.991734Z",
     "start_time": "2019-05-31T12:34:11.742263Z"
    }
   },
   "outputs": [
    {
     "data": {
      "image/png": "[encoded data removed]",
      "text/plain": [
       "<Figure size 792x504 with 1 Axes>"
      ]
     },
     "metadata": {},
     "output_type": "display_data"
    }
   ],
   "source": [
    "pathlist = Path(\"/home/aggelos-i3/Downloads/simu Elbas/7h33D1\").glob('**/*.xls')\n",
    "#path_in_str = str(pathlist)\n",
    "for path in pathlist:\n",
    "    path_in_str = str(path)\n",
    "\n",
    "    df_test =pd.read_csv(path_in_str, delimiter='\\t')\n",
    "    df_test = df_test.loc[:, features]\n",
    "    df_test.head()\n",
    "\n",
    "\n",
    "    rolling_mean_acc = df_test['acceleration (actual) [m/(s*s)]'].rolling(roll_filter).mean()\n",
    "    rolling_mean_tract_eff = df_test['tractive effort (actual) [kN]'].rolling(roll_filter).mean()\n",
    "    rolling_mean = df_test['voltage [V]'].rolling(roll_filter).mean()\n",
    "    distance = df_test['loc. (actual) [km]']\n",
    "\n",
    "    from sklearn.preprocessing import MinMaxScaler, StandardScaler\n",
    "    from sklearn.externals import joblib\n",
    "\n",
    "    df = pd.DataFrame({\n",
    "        'Voltage': rolling_mean,\n",
    "        'Acceleration': rolling_mean_acc,\n",
    "        \"Location\": distance,\n",
    "        \"Tract_effort\": rolling_mean_tract_eff,\n",
    "    })\n",
    "    df = df.dropna()\n",
    "    #df.plot()\n",
    "    df = scaler.fit_transform(df)\n",
    "    spliter = SequenceSpliter(lookback=LOOKBACK, look_ahead=LOOK_AHEAD)\n",
    "    X, y = spliter.fit_transform(df)\n",
    "    X = X[:, :, :]\n",
    "    y = y[:, :, 0]\n",
    "    #print(X.shape)\n",
    "    #print(y.shape)\n",
    "\n",
    "    #model = tf.keras.models.load_model(\"./models/anomaly_clfr.h5\")\n",
    "    #model.summary()\n",
    "\n",
    "    preds = model.predict(X)\n",
    "\n",
    "    plt.plot(distance[-len(preds):], np.argmax(preds, axis=1))"
   ]
  },
  {
   "cell_type": "code",
   "execution_count": null,
   "metadata": {},
   "outputs": [],
   "source": []
  }
 ],
 "metadata": {
  "hide_input": false,
  "kernelspec": {
   "display_name": "Python 3",
   "language": "python",
   "name": "python3"
  },
  "language_info": {
   "codemirror_mode": {
    "name": "ipython",
    "version": 3
   },
   "file_extension": ".py",
   "mimetype": "text/x-python",
   "name": "python",
   "nbconvert_exporter": "python",
   "pygments_lexer": "ipython3",
   "version": "3.6.8"
  },
  "toc": {
   "base_numbering": 1,
   "nav_menu": {},
   "number_sections": true,
   "sideBar": true,
   "skip_h1_title": false,
   "title_cell": "Table of Contents",
   "title_sidebar": "Contents",
   "toc_cell": false,
   "toc_position": {},
   "toc_section_display": true,
   "toc_window_display": false
  },
  "varInspector": {
   "cols": {
    "lenName": 16,
    "lenType": 16,
    "lenVar": 40
   },
   "kernels_config": {
    "python": {
     "delete_cmd_postfix": "",
     "delete_cmd_prefix": "del ",
     "library": "var_list.py",
     "varRefreshCmd": "print(var_dic_list())"
    },
    "r": {
     "delete_cmd_postfix": ") ",
     "delete_cmd_prefix": "rm(",
     "library": "var_list.r",
     "varRefreshCmd": "cat(var_dic_list()) "
    }
   },
   "types_to_exclude": [
    "module",
    "function",
    "builtin_function_or_method",
    "instance",
    "_Feature"
   ],
   "window_display": false
  }
 },
 "nbformat": 4,
 "nbformat_minor": 2
}
