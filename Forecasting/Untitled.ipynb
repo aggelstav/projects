{
 "cells": [
  {
   "cell_type": "code",
   "execution_count": null,
   "metadata": {
    "ExecuteTime": {
     "end_time": "2019-05-07T14:09:11.503511Z",
     "start_time": "2019-05-07T14:09:05.916494Z"
    }
   },
   "outputs": [],
   "source": [
    "!pip install pulp\n"
   ]
  },
  {
   "cell_type": "code",
   "execution_count": 1,
   "metadata": {
    "ExecuteTime": {
     "end_time": "2019-05-07T14:19:47.654346Z",
     "start_time": "2019-05-07T14:19:47.634583Z"
    }
   },
   "outputs": [],
   "source": [
    "from pulp import *\n"
   ]
  },
  {
   "cell_type": "code",
   "execution_count": 13,
   "metadata": {
    "ExecuteTime": {
     "end_time": "2019-05-07T14:20:14.236397Z",
     "start_time": "2019-05-07T14:20:14.234405Z"
    }
   },
   "outputs": [],
   "source": [
    "problem = LpProblem(\"name\", LpMaximize)"
   ]
  },
  {
   "cell_type": "code",
   "execution_count": 14,
   "metadata": {
    "ExecuteTime": {
     "end_time": "2019-05-07T14:20:14.662432Z",
     "start_time": "2019-05-07T14:20:14.656440Z"
    }
   },
   "outputs": [],
   "source": [
    "cf0 = 450\n",
    "cf1 = 420\n",
    "cf2 = 333"
   ]
  },
  {
   "cell_type": "code",
   "execution_count": 15,
   "metadata": {
    "ExecuteTime": {
     "end_time": "2019-05-07T14:20:14.832611Z",
     "start_time": "2019-05-07T14:20:14.828090Z"
    }
   },
   "outputs": [],
   "source": [
    "f0 = 200\n",
    "f1 = 1500\n",
    "f2 = 1500"
   ]
  },
  {
   "cell_type": "code",
   "execution_count": 16,
   "metadata": {
    "ExecuteTime": {
     "end_time": "2019-05-07T14:20:14.989359Z",
     "start_time": "2019-05-07T14:20:14.983827Z"
    }
   },
   "outputs": [],
   "source": [
    "goal = 80000"
   ]
  },
  {
   "cell_type": "code",
   "execution_count": 17,
   "metadata": {
    "ExecuteTime": {
     "end_time": "2019-05-07T14:20:15.122414Z",
     "start_time": "2019-05-07T14:20:15.119489Z"
    }
   },
   "outputs": [],
   "source": [
    "max_days = 30\n",
    "num_factories = 3"
   ]
  },
  {
   "cell_type": "code",
   "execution_count": 18,
   "metadata": {
    "ExecuteTime": {
     "end_time": "2019-05-07T14:20:15.288170Z",
     "start_time": "2019-05-07T14:20:15.280776Z"
    }
   },
   "outputs": [],
   "source": [
    "# factories\n",
    "factory_days = LpVariable.dicts(\"factoryDays\", list(\n",
    "    range(num_factories)), 0, 30, cat=\"Continuous\")"
   ]
  },
  {
   "cell_type": "code",
   "execution_count": 19,
   "metadata": {
    "ExecuteTime": {
     "end_time": "2019-05-07T14:20:15.446817Z",
     "start_time": "2019-05-07T14:20:15.430466Z"
    }
   },
   "outputs": [],
   "source": [
    "# goal constraint\n",
    "c1 = factory_days[0] * f0 + factory_days[1] * f1 + factory_days[2] * f2 >= goal\n",
    "\n",
    "# production constraints\n",
    "c2 = factory_days[0] * f0 <= 2 * factory_days[1] * f1\n",
    "c3 = factory_days[0] * f0 <= 2 * factory_days[2] * f2\n",
    "c4 = factory_days[1] * f1 <= 2 * factory_days[2] * f2\n",
    "c5 = factory_days[1] * f1 <= 2 * factory_days[0] * f0\n",
    "c6 = factory_days[2] * f2 <= 2 * factory_days[1] * f1\n",
    "c7 = factory_days[2] * f2 <= 2 * factory_days[0] * f0\n",
    "\n",
    "# adding the constraints to the problem\n",
    "problem += c1\n",
    "problem += c2\n",
    "problem += c3\n",
    "problem += c4\n",
    "problem += c5\n",
    "problem += c6\n",
    "problem += c7"
   ]
  },
  {
   "cell_type": "code",
   "execution_count": 20,
   "metadata": {
    "ExecuteTime": {
     "end_time": "2019-05-07T14:20:15.989917Z",
     "start_time": "2019-05-07T14:20:15.982354Z"
    }
   },
   "outputs": [],
   "source": [
    "# objective function\n",
    "problem += -factory_days[0] * cf0 * f0 - factory_days[\n",
    "    1] * cf1 * f1 - factory_days[2] * cf2 * f2"
   ]
  },
  {
   "cell_type": "code",
   "execution_count": 21,
   "metadata": {
    "ExecuteTime": {
     "end_time": "2019-05-07T14:20:16.447459Z",
     "start_time": "2019-05-07T14:20:16.439331Z"
    }
   },
   "outputs": [
    {
     "name": "stdout",
     "output_type": "stream",
     "text": [
      "name:\n",
      "MAXIMIZE\n",
      "-90000*factoryDays_0 + -630000*factoryDays_1 + -499500*factoryDays_2 + 0\n",
      "SUBJECT TO\n",
      "_C1: 200 factoryDays_0 + 1500 factoryDays_1 + 1500 factoryDays_2 >= 80000\n",
      "\n",
      "_C2: 200 factoryDays_0 - 3000 factoryDays_1 <= 0\n",
      "\n",
      "_C3: 200 factoryDays_0 - 3000 factoryDays_2 <= 0\n",
      "\n",
      "_C4: 1500 factoryDays_1 - 3000 factoryDays_2 <= 0\n",
      "\n",
      "_C5: - 400 factoryDays_0 + 1500 factoryDays_1 <= 0\n",
      "\n",
      "_C6: - 3000 factoryDays_1 + 1500 factoryDays_2 <= 0\n",
      "\n",
      "_C7: - 400 factoryDays_0 + 1500 factoryDays_2 <= 0\n",
      "\n",
      "VARIABLES\n",
      "factoryDays_0 <= 30 Continuous\n",
      "factoryDays_1 <= 30 Continuous\n",
      "factoryDays_2 <= 30 Continuous\n",
      "\n"
     ]
    }
   ],
   "source": [
    "print(problem)\n"
   ]
  },
  {
   "cell_type": "code",
   "execution_count": 22,
   "metadata": {
    "ExecuteTime": {
     "end_time": "2019-05-07T14:20:17.202711Z",
     "start_time": "2019-05-07T14:20:17.194517Z"
    }
   },
   "outputs": [
    {
     "data": {
      "text/plain": [
       "-1"
      ]
     },
     "execution_count": 22,
     "metadata": {},
     "output_type": "execute_result"
    }
   ],
   "source": [
    "# solving\n",
    "problem.solve()"
   ]
  },
  {
   "cell_type": "code",
   "execution_count": 23,
   "metadata": {
    "ExecuteTime": {
     "end_time": "2019-05-07T14:20:17.607490Z",
     "start_time": "2019-05-07T14:20:17.598695Z"
    }
   },
   "outputs": [
    {
     "name": "stdout",
     "output_type": "stream",
     "text": [
      "Factory 0: 30.0\n",
      "Factory 1: 41.333333\n",
      "Factory 2: 8.0\n"
     ]
    }
   ],
   "source": [
    "for i in range(3):\n",
    " print(f\"Factory {i}: {factory_days[i].varValue}\")"
   ]
  },
  {
   "cell_type": "code",
   "execution_count": null,
   "metadata": {},
   "outputs": [],
   "source": []
  }
 ],
 "metadata": {
  "hide_input": false,
  "kernelspec": {
   "display_name": "Python 3",
   "language": "python",
   "name": "python3"
  },
  "language_info": {
   "codemirror_mode": {
    "name": "ipython",
    "version": 3
   },
   "file_extension": ".py",
   "mimetype": "text/x-python",
   "name": "python",
   "nbconvert_exporter": "python",
   "pygments_lexer": "ipython3",
   "version": "3.6.5"
  },
  "toc": {
   "base_numbering": 1,
   "nav_menu": {},
   "number_sections": true,
   "sideBar": true,
   "skip_h1_title": false,
   "title_cell": "Table of Contents",
   "title_sidebar": "Contents",
   "toc_cell": false,
   "toc_position": {},
   "toc_section_display": true,
   "toc_window_display": false
  },
  "varInspector": {
   "cols": {
    "lenName": 16,
    "lenType": 16,
    "lenVar": 40
   },
   "kernels_config": {
    "python": {
     "delete_cmd_postfix": "",
     "delete_cmd_prefix": "del ",
     "library": "var_list.py",
     "varRefreshCmd": "print(var_dic_list())"
    },
    "r": {
     "delete_cmd_postfix": ") ",
     "delete_cmd_prefix": "rm(",
     "library": "var_list.r",
     "varRefreshCmd": "cat(var_dic_list()) "
    }
   },
   "types_to_exclude": [
    "module",
    "function",
    "builtin_function_or_method",
    "instance",
    "_Feature"
   ],
   "window_display": false
  }
 },
 "nbformat": 4,
 "nbformat_minor": 2
}
